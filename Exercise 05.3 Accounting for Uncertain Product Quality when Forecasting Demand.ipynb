{
 "cells": [
  {
   "cell_type": "markdown",
   "metadata": {},
   "source": [
    "## Exercise 5.3 Accounting for Uncertain Product Quality when Forecasting Demand\n",
    "\n",
    "You are tasked with forecasting demand for a new product. Based on past data and your knowledge of the product, you estimate that the product quality will be Amazing with probability 0.1, Mediocre with probability 0.5, and Terrible with probability 0.4. You model the demand as normally distributed, with mean and standard deviation dependent on the product quality as follows.\n",
    "\n",
    "| Prod. Quality: | Amazing | Mediocre | Terrible |\n",
    "|--|--|--|--|\n",
    "|mean| 10000 | 5000 | 1000 |\n",
    "|standard deviation| 2000 | 1000 | 300 |\n",
    "\n",
    "Create a `Series` called \"forecast\" with 10,000 samples of the demand forecast, and compute the mean and standard deviation of the samples, as well as the probability that demand is more than 6000. Finally, plot a histogram of the samples with 100 bins. (For this question, you can ignore the constraint that demand should be integer and non-negative.)\n",
    "\n",
    "Note: due to the inherent randomness in sampling, it's okay if your answers are slightly different from what is below. "
   ]
  },
  {
   "cell_type": "code",
   "execution_count": 12,
   "metadata": {},
   "outputs": [
    {
     "name": "stdout",
     "output_type": "stream",
     "text": [
      "Sample Mean: 3885.040028449171\n",
      "Sample Standard Deviation: 2922.919141962342\n",
      "Probability demand more than 6000: 0.1754\n"
     ]
    },
    {
     "data": {
      "text/plain": [
       "<matplotlib.axes._subplots.AxesSubplot at 0x15858047f48>"
      ]
     },
     "execution_count": 12,
     "metadata": {},
     "output_type": "execute_result"
    },
    {
     "data": {
      "image/png": "[encoded data removed]",
      "text/plain": [
       "<Figure size 432x288 with 1 Axes>"
      ]
     },
     "metadata": {
      "needs_background": "light"
     },
     "output_type": "display_data"
    }
   ],
   "source": [
    "import pandas as pd\n",
    "from numpy import random\n",
    "data = []\n",
    "for i in range(10000):\n",
    "    segment = random.choice(['amazing', 'mediocre','terrible'], p=[0.1, 0.5, 0.4])\n",
    "    if segment == 'amazing':\n",
    "        data.append(random.normal(10000, 2000))\n",
    "    elif segment=='mediocre':\n",
    "        data.append(random.normal(5000, 1000))\n",
    "    elif segment=='terrible':\n",
    "        data.append(random.normal(1000, 300))    \n",
    "forecast = pd.Series(data)\n",
    "\n",
    "print(f'Sample Mean: {forecast.mean()}')\n",
    "print(f'Sample Standard Deviation: {forecast.std()}')\n",
    "print(f'Probability demand more than 6000: {(forecast>6000).mean()}')\n",
    "\n",
    "forecast.plot(kind='hist',bins=100,title='Histogram of Product Demand')"
   ]
  }
 ],
 "metadata": {
  "kernelspec": {
   "display_name": "Python 3",
   "language": "python",
   "name": "python3"
  },
  "language_info": {
   "codemirror_mode": {
    "name": "ipython",
    "version": 3
   },
   "file_extension": ".py",
   "mimetype": "text/x-python",
   "name": "python",
   "nbconvert_exporter": "python",
   "pygments_lexer": "ipython3",
   "version": "3.7.6"
  },
  "toc": {
   "base_numbering": 1,
   "nav_menu": {},
   "number_sections": true,
   "sideBar": true,
   "skip_h1_title": false,
   "title_cell": "Table of Contents",
   "title_sidebar": "Contents",
   "toc_cell": false,
   "toc_position": {},
   "toc_section_display": true,
   "toc_window_display": false
  }
 },
 "nbformat": 4,
 "nbformat_minor": 2
}
