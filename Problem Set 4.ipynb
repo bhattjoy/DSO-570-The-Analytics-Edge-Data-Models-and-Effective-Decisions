{
 "cells": [
  {
   "cell_type": "markdown",
   "metadata": {},
   "source": [
    "# Joyi Bhattacharjee\n",
    "\n",
    "# Problem Set 4 \n",
    "\n",
    "### Learning Objective:\n",
    "\n",
    "- Create Python code to automate a given task.\n",
    "\n",
    "### Overview:\n",
    "\n",
    "This problem set assesses your algorithmic thinking, which is the focus of weeks 3 and 4. For each problem, you are required to go through all four steps of algorithmic thinking. See the sample solutions to Exercises 3.6, 4.2, 4.3 an 4.5 for examples of the desired format of your responses.\n",
    "\n",
    "### Grading\n",
    "\n",
    "There are three possible scores you can get from submitting this assignment on time (submitting a blank file or one without any apparent effort does not count). Note that the rubric is designed to incentivize you to go for 100% mastery of the material, as the little details matter a lot in programming. \n",
    "\n",
    "| Grade | Description |\n",
    "|--|--|\n",
    "| 5 out of 5 | Perfect submission with no significant errors. | \n",
    "| 4 out of 5 | Near perfect submission with one or more significant errors. |\n",
    "| 2 out of 5 | Apparent effort but far from perfect. |"
   ]
  },
  {
   "cell_type": "markdown",
   "metadata": {},
   "source": [
    "## Q1. Optimal Stocking Level\n",
    "\n",
    "Write a function named `optBaseStock` with four input arguments:\n",
    "\n",
    "- `levelList`: a list of possible stocking levels to optimize over (which can be a `range` instead of a `list`).\n",
    "- `demandList`: a list of demand scenarios. \n",
    "- `underage`: the unit cost of having too little inventory to meet demand.\n",
    "- `overage`: the unit cost of having too much inventory.\n",
    "\n",
    "For each possible stocking level, the function should compute the average inventory cost, which is defined as the average over all demand scenarios of the total underage cost plus the total overage cost. For example, if the stocking level is 10, the demand scenarios are `[6,12,14]`, the underage cost is 9 and the overage is 5, then\n",
    "\n",
    "- The inventory cost for the scenario `demand=6` is $(10-6)\\times 5=20$, because the stocking level is 4 units too high. (The overage cost of 5/unit is applied when the inventory is too high.)\n",
    "- The inventory cost for the scenario `demand=12` is $(12-10)\\times 9=18$, because the stocking level is 2 units too low. (The underage cost of 9/unit is applied when the inventory is too low.) \n",
    "- The inventory cost for the scenario `demand=14` is $(14-10)\\times 9=36$, because the stocking level is 4 units too low. \n",
    "\n",
    "The average inventory cost for stocking level 10 is $(20+18+36)/3=74/3\\approx 24.67$.  \n",
    "\n",
    "The function should return two objects:\n",
    "\n",
    "- `bestLevel`: the stocking level in `levelList` that achieves the minimum average inventory cost (if there is a tie, return the smallest stocking level that yields the minimum cost).\n",
    "- `avCost`: a dictionary that maps each stocking level to the corresponding average inventory cost.\n",
    "\n",
    "**Sample run:**\n",
    "\n",
    "```python\n",
    "demandList=[10,18,5,20,16,30,15,3,5,10]\n",
    "levelList=range(0,30,5)\n",
    "underage=10\n",
    "overage=3\n",
    "bestLevel,avCost=optBaseStock(levelList,demandList,underage,overage)\n",
    "print('bestLevel:',bestLevel)\n",
    "print('avCost:',avCost)\n",
    "```\n",
    "\n",
    "**Correct output:**\n",
    "\n",
    "```\n",
    "bestLevel 20\n",
    "avCost {0: 132.0, 5: 84.6, 10: 54.1, 15: 36.6, 20: 33.4, 25: 41.9}\n",
    "```"
   ]
  },
  {
   "cell_type": "markdown",
   "metadata": {},
   "source": [
    "### Applying Algorithmic Thinking:\n",
    "\n",
    "**Step 1. Understand** (Write your summary of the task in this cell:)\n",
    "\n",
    "For all the Stocking level in the Stocking value list, we need to compute the average inventory cost, which is defined as the average over all demand scenarios of the total underage cost plus the total overage cost. The inventory level with lowest cost is to be identified. If there are two inventory levels with lowest cost, the one with lower inventory level is the most optimised inventory level. We would also need to output a dictionary with all the inventory level values and corresponding cost."
   ]
  },
  {
   "cell_type": "markdown",
   "metadata": {},
   "source": [
    "**Step 2. Decompose** (Write your instructions in this Markdown cell)\n",
    "\n",
    "**A.** Iterate through the stock levels in the given LevelList.\n",
    "\n",
    "**B.** Calculate the cost for each given level: \n",
    "        - if level>demand multiply with overage cost                          \n",
    "        - if level<demand multiply with underage cost\n",
    "        - The average cost is calculated across all the values in DemandList(sum(Cost)/length(demandList)\n",
    "       Store the answer in a dictionary.\n",
    "\n",
    "**C.** Keep track of the lowest cost found so far. The corresponding Stocking level is the required Optimum Stocking Level.\n",
    "       If there are more than one stocking levels with the lowest cost, the most optimum stocking level is the lowest stocking level among them"
   ]
  },
  {
   "cell_type": "markdown",
   "metadata": {},
   "source": [
    "**Step 3. Analyze** (Write code fragments in separate code cells to implement the trickiest steps)"
   ]
  },
  {
   "cell_type": "code",
   "execution_count": 2,
   "metadata": {},
   "outputs": [],
   "source": [
    "demandList=[10,18,5,20,16,30,15,3,5,10]\n",
    "levelList=range(0,30,5)\n",
    "underage=10\n",
    "overage=3"
   ]
  },
  {
   "cell_type": "code",
   "execution_count": 13,
   "metadata": {},
   "outputs": [
    {
     "name": "stdout",
     "output_type": "stream",
     "text": [
      "Level: 0\n",
      "1320\n",
      "132.0\n",
      "Level: 5\n",
      "846\n",
      "84.6\n",
      "Level: 10\n",
      "541\n",
      "54.1\n",
      "Level: 15\n",
      "366\n",
      "36.6\n",
      "Level: 20\n",
      "334\n",
      "33.4\n",
      "Level: 25\n",
      "419\n",
      "41.9\n"
     ]
    },
    {
     "data": {
      "text/plain": [
       "{0: 132.0, 5: 84.6, 10: 54.1, 15: 36.6, 20: 33.4, 25: 41.9}"
      ]
     },
     "execution_count": 13,
     "metadata": {},
     "output_type": "execute_result"
    }
   ],
   "source": [
    "avCost={}\n",
    "for level in levelList:\n",
    "    print(f'Level: {level}')\n",
    "    TotalCost=0\n",
    "    for demand in demandList:\n",
    "        if level>=demand:\n",
    "            cost=(level-demand)*overage\n",
    "        elif level<demand:\n",
    "            cost=(demand-level)*underage\n",
    "        TotalCost=TotalCost+cost\n",
    "    avCost[level]=TotalCost/len(demandList)\n",
    "    print(TotalCost)\n",
    "    print(TotalCost/len(demandList))\n",
    "avCost"
   ]
  },
  {
   "cell_type": "code",
   "execution_count": 26,
   "metadata": {},
   "outputs": [
    {
     "data": {
      "text/plain": [
       "20"
      ]
     },
     "execution_count": 26,
     "metadata": {},
     "output_type": "execute_result"
    }
   ],
   "source": [
    "best=None\n",
    "best_level=0\n",
    "for key,avg in avCost.items():\n",
    "    if best==None or avg<best:\n",
    "        best=avg\n",
    "        best_level=key\n",
    "best_level"
   ]
  },
  {
   "cell_type": "code",
   "execution_count": null,
   "metadata": {},
   "outputs": [],
   "source": []
  },
  {
   "cell_type": "markdown",
   "metadata": {},
   "source": [
    "**Step 4. Synthesize** (Combine your code fragments from Step 3, but do so in an incremental fashion and print intermediate results)"
   ]
  },
  {
   "cell_type": "code",
   "execution_count": 34,
   "metadata": {},
   "outputs": [
    {
     "name": "stdout",
     "output_type": "stream",
     "text": [
      "Level: 0\n",
      "\tAvgCost: 132.0\n",
      "\tBest Cost Till Now: 132.0\n",
      "\tBest Level Till Now: 0\n",
      "Level: 5\n",
      "\tAvgCost: 84.6\n",
      "\tBest Cost Till Now: 84.6\n",
      "\tBest Level Till Now: 5\n",
      "Level: 10\n",
      "\tAvgCost: 54.1\n",
      "\tBest Cost Till Now: 54.1\n",
      "\tBest Level Till Now: 10\n",
      "Level: 15\n",
      "\tAvgCost: 36.6\n",
      "\tBest Cost Till Now: 36.6\n",
      "\tBest Level Till Now: 15\n",
      "Level: 20\n",
      "\tAvgCost: 33.4\n",
      "\tBest Cost Till Now: 33.4\n",
      "\tBest Level Till Now: 20\n",
      "Level: 25\n",
      "\tAvgCost: 41.9\n",
      "\tBest Cost Till Now: 33.4\n",
      "\tBest Level Till Now: 20\n"
     ]
    }
   ],
   "source": [
    "# Version for debugging: with intermediate printing and no function encapsulation\n",
    "bestCost=None\n",
    "best_level=None\n",
    "for level in levelList:\n",
    "    print(f'Level: {level}')\n",
    "    TotalCost=0\n",
    "    for demand in demandList:\n",
    "        if level>=demand:\n",
    "            cost=(level-demand)*overage\n",
    "        elif level<demand:\n",
    "            cost=(demand-level)*underage\n",
    "        TotalCost=TotalCost+cost\n",
    "    avCost[level]=TotalCost/len(demandList)\n",
    "    print(f'\\tAvgCost: {avCost[level]}')\n",
    "    if bestCost==None or avCost[level]<bestCost:\n",
    "        bestCost=avCost[level]\n",
    "        best_level=level\n",
    "    elif avCost[level]==bestCost:\n",
    "        best_level=min(level,best_level)\n",
    "    print(f'\\tBest Cost Till Now: {bestCost}')\n",
    "    print(f'\\tBest Level Till Now: {best_level}')"
   ]
  },
  {
   "cell_type": "code",
   "execution_count": 42,
   "metadata": {},
   "outputs": [
    {
     "name": "stdout",
     "output_type": "stream",
     "text": [
      "bestLevel: 20\n",
      "avCost: {0: 132.0, 5: 84.6, 10: 54.1, 15: 36.6, 20: 33.4, 25: 41.9}\n"
     ]
    }
   ],
   "source": [
    "# Final code: removing intermediate printing and encapuslating in a function\n",
    "\n",
    "\n",
    "def cost(demandList, level, overage, underage):\n",
    "    TotalCost = 0\n",
    "    for demand in demandList:\n",
    "        if level >= demand:\n",
    "            cost = (level - demand) * overage\n",
    "        elif level < demand:\n",
    "            cost = (demand - level) * underage\n",
    "        TotalCost = TotalCost + cost\n",
    "    AvgCost = TotalCost / len(demandList)\n",
    "    return AvgCost\n",
    "\n",
    "\n",
    "avCost = {}\n",
    "\n",
    "\n",
    "def optBaseStock(levelList, demandList, underage, overage):\n",
    "    bestCost = None\n",
    "    best_level = None\n",
    "    for level in levelList:\n",
    "        TotalCost = 0\n",
    "        avCost[level] = cost(demandList, level, overage, underage)\n",
    "\n",
    "        if bestCost == None or avCost[level] < bestCost:\n",
    "            bestCost = avCost[level]\n",
    "            best_level = level\n",
    "        elif bestCost == avCost[level]:\n",
    "            best_level = min(level, best_level)\n",
    "\n",
    "    return best_level, avCost\n",
    "\n",
    "\n",
    "demandList = [10, 18, 5, 20, 16, 30, 15, 3, 5, 10]\n",
    "levelList = range(0, 30, 5)\n",
    "underage = 10\n",
    "overage = 3\n",
    "bestLevel, avCost = optBaseStock(levelList, demandList, underage, overage)\n",
    "print('bestLevel:', bestLevel)\n",
    "print('avCost:', avCost)"
   ]
  },
  {
   "cell_type": "code",
   "execution_count": 43,
   "metadata": {},
   "outputs": [
    {
     "data": {
      "image/png": "[encoded data removed]",
      "text/plain": [
       "<Figure size 432x288 with 1 Axes>"
      ]
     },
     "metadata": {
      "needs_background": "light"
     },
     "output_type": "display_data"
    }
   ],
   "source": [
    "demandList=[10,18,5,20,16,30,15,3,5,10]\n",
    "levelList=range(0,30,5)\n",
    "underage=10\n",
    "overage=3\n",
    "bestLevel,cost=optBaseStock(levelList,demandList,underage,overage)\n",
    "\n",
    "import matplotlib.pyplot as plt\n",
    "levelList=sorted(levelList)\n",
    "costList=[cost[level] for level in levelList]\n",
    "plt.plot(levelList,costList)\n",
    "plt.plot([bestLevel],[cost[bestLevel]],'ro')\n",
    "plt.title(f'Optimal stocking level is {bestLevel} with cost {round(cost[bestLevel],2)}')\n",
    "plt.xlabel('Stocking level')\n",
    "plt.ylabel('Average inventory cost')\n",
    "plt.ylim(bottom=0)\n",
    "plt.show()"
   ]
  },
  {
   "cell_type": "code",
   "execution_count": 7,
   "metadata": {},
   "outputs": [
    {
     "name": "stdout",
     "output_type": "stream",
     "text": [
      "bestLevel: 20\n",
      "avCost: {0: 132.0, 5: 84.6, 10: 54.1, 15: 36.6, 20: 33.4, 25: 41.9}\n"
     ]
    }
   ],
   "source": [
    "# Sample run\n",
    "demandList=[10,18,5,20,16,30,15,3,5,10]\n",
    "levelList=range(0,30,5)\n",
    "underage=10\n",
    "overage=3\n",
    "bestLevel,avCost=optBaseStock(levelList,demandList,underage,overage)\n",
    "print('bestLevel:',bestLevel)\n",
    "print('avCost:',avCost)"
   ]
  },
  {
   "cell_type": "markdown",
   "metadata": {},
   "source": [
    "The following code illustrates how the results might be graphed as in Exercise 4.3. \n",
    "\n",
    "**Remember that due to a bug in Jupyter notebook, the first graph might need to be run twice in order to show.**"
   ]
  },
  {
   "cell_type": "code",
   "execution_count": 17,
   "metadata": {},
   "outputs": [
    {
     "data": {
      "image/png": "[encoded data removed]",
      "text/plain": [
       "<Figure size 432x288 with 1 Axes>"
      ]
     },
     "metadata": {
      "needs_background": "light"
     },
     "output_type": "display_data"
    }
   ],
   "source": [
    "demandList=[10,18,5,20,16,30,15,3,5,10]\n",
    "levelList=range(0,30,5)\n",
    "underage=10\n",
    "overage=3\n",
    "bestLevel,cost=optBaseStock(levelList,demandList,underage,overage)\n",
    "\n",
    "import matplotlib.pyplot as plt\n",
    "levelList=sorted(levelList)\n",
    "costList=[cost[level] for level in levelList]\n",
    "plt.plot(levelList,costList)\n",
    "plt.plot([bestLevel],[cost[bestLevel]],'ro')\n",
    "plt.title(f'Optimal stocking level is {bestLevel} with cost {round(cost[bestLevel],2)}')\n",
    "plt.xlabel('Stocking level')\n",
    "plt.ylabel('Average inventory cost')\n",
    "plt.ylim(bottom=0)\n",
    "plt.show()"
   ]
  },
  {
   "cell_type": "markdown",
   "metadata": {},
   "source": [
    "## Q2. Simulating Availabilities of Hospital Beds\n",
    "\n",
    "One challenge in health care operations is to forecast the number of hospital beds that are available at a given time, since patients admitted in the past may stay for several days and the number of beds are limited. If no more beds are available, then incoming patients may need to be turned away.\n",
    "\n",
    "Write a function called `admissionSimulation` with three input arguments:\n",
    "\n",
    "- `demandList`: a list of positive integers representing the number of incoming patients desiring a hospital bed in each day. (The first number corresponds to day 0, the second number to day 1, and so on.)\n",
    "- `beds`: a positive integer representing the total number of hospital beds available.\n",
    "- `stay`: a positive integer representing the number of days each admitted patient will stay. If `stay=1`, then every admitted patient leaves before any incoming patients arrive the next day. If `stay=2`, then each patient admitted on day $t$ will occupy a bed also for day $t+1$, and leave before incoming patients arrive on day $t+2$.\n",
    "\n",
    "The function should return a list `admissionRecord`, corresponding to the number of incoming patients admitted on each day. \n",
    "\n",
    "**Sample run 1:**\n",
    "\n",
    "```python\n",
    "demandList=[1,2,1,0,2,3]\n",
    "beds=2\n",
    "stay=2\n",
    "admissionRecord=admissionSimulation(demandList,beds,stay)\n",
    "print(f'Day\\tDemand\\tAdmitted')\n",
    "for i in range(len(demandList)):\n",
    "    print(f'{i}\\t{demandList[i]}\\t{admissionRecord[i]}')\n",
    "```\n",
    "\n",
    "**Correct output:**\n",
    "\n",
    "```\n",
    "Day\t  Demand   Admitted\n",
    "0\t    1\t    1\n",
    "1\t    2\t    1\n",
    "2\t    1\t    1\n",
    "3\t    0\t    0\n",
    "4\t    2\t    2\n",
    "5\t    3\t    0\n",
    "```\n",
    "\n",
    "**Sample run 2:**\n",
    "\n",
    "```python\n",
    "demandList=[5,8,6,8,4,4,8,6,1]\n",
    "beds=7\n",
    "stay=3\n",
    "admissionRecord=admissionSimulation(demandList,beds,stay)\n",
    "print(f'Day\\tDemand\\tAdmitted')\n",
    "for i in range(len(demandList)):\n",
    "    print(f'{i}\\t{demandList[i]}\\t{admissionRecord[i]}')\n",
    "```\n",
    "\n",
    "**Correct output:**\n",
    "\n",
    "```\n",
    "Day\t  Demand   Admitted\n",
    "0\t    5\t    5\n",
    "1\t    8\t    2\n",
    "2\t    6\t    0\n",
    "3\t    8\t    5\n",
    "4\t    4\t    2\n",
    "5\t    4\t    0\n",
    "6\t    8\t    5\n",
    "7\t    6\t    2\n",
    "8\t    1\t    0\n",
    "```\n",
    "\n",
    "**Sample run 3:**\n",
    "\n",
    "```python\n",
    "# Sample run 3\n",
    "demandList=[5,8,6,4,4,4,8,1,3]\n",
    "beds=7\n",
    "stay=3\n",
    "admissionRecord=admissionSimulation(demandList,beds,stay)\n",
    "print(f'Day\\tDemand\\tAdmitted')\n",
    "for i in range(len(demandList)):\n",
    "    print(f'{i}\\t{demandList[i]}\\t{admissionRecord[i]}')\n",
    "```\n",
    "\n",
    "**Correct output:**\n",
    "\n",
    "```\n",
    "Day      Demand   Admitted\n",
    "0\t    5    \t5\n",
    "1\t    8\t    2\n",
    "2\t    6\t    0\n",
    "3\t    4\t    4\n",
    "4\t    4\t    3\n",
    "5\t    4\t    0\n",
    "6\t    8\t    4\n",
    "7\t    1\t    1\n",
    "8\t    3\t    2\n",
    "```\n",
    "\n",
    "**Hint:** In Step 2, you want to create a table. The above tables are insufficient to carry through the logic, as you also need to keep track of the number of discharges at the beginning of each day, as well as the number of available beds before new patients arrive."
   ]
  },
  {
   "cell_type": "markdown",
   "metadata": {},
   "source": [
    "### Applying Algorithmic Thinking:\n",
    "\n",
    "**Step 1. Understand** (Write your summary of the task in this cell:)\n",
    "\n",
    "The task is to create a log of count of the admitted patients each day. The number of patients admitted in each day depends on the availability of beds from previous day and also number of patients discharged on that day. The hospital has a maximum bed capacity of fixed quantity."
   ]
  },
  {
   "cell_type": "markdown",
   "metadata": {},
   "source": [
    "**Step 2. Decompose** (Write your instructions in this Markdown cell)\n",
    "\n",
    "Create a table which has columns- day,demand,admitted,discharged,available\n",
    "- day: day of the week(starting from 0)  \n",
    "- demand: number of patients coming in each day(available as a list as input)\n",
    "- admitted:Number of patients that can be admitted on each day.\n",
    "        - it depends on the availability from previous day. Admitted= Min(Demand,Available)\n",
    "- discharged: The count of patient getting discharged at the end of each day\n",
    "        - it depends on the number of days of stay (available as input)\n",
    "        - patients are discharged after stay-1 days\n",
    "        - discharged count each day= Patients admitted at stay-1 days before\n",
    "- available: beds available for admission of patients **next day**.\n",
    "        - This is calculated each day as: Available(from previous day)-Admitted+Discharged (all values for that day)\n",
    "        - This available value is used next day to calculate how many patients could be admitted"
   ]
  },
  {
   "cell_type": "markdown",
   "metadata": {},
   "source": [
    "**Step 3. Analyze** (Write code fragments in separate code cells to implement the trickiest steps)"
   ]
  },
  {
   "cell_type": "code",
   "execution_count": 109,
   "metadata": {},
   "outputs": [],
   "source": [
    "demandList=[5,8,6,4,4,4,8,1,3]\n",
    "beds=7\n",
    "stay=3"
   ]
  },
  {
   "cell_type": "code",
   "execution_count": 114,
   "metadata": {},
   "outputs": [],
   "source": [
    "import pandas as pd\n",
    "table=pd.DataFrame()\n",
    "table[\"Demand\"]=demandList\n",
    "table[\"Admitted\"]=0\n",
    "table[\"Discharged\"]=0\n",
    "table[\"Available\"]=0\n",
    "# table"
   ]
  },
  {
   "cell_type": "code",
   "execution_count": 115,
   "metadata": {},
   "outputs": [
    {
     "data": {
      "text/html": [
       "<div>\n",
       "<style scoped>\n",
       "    .dataframe tbody tr th:only-of-type {\n",
       "        vertical-align: middle;\n",
       "    }\n",
       "\n",
       "    .dataframe tbody tr th {\n",
       "        vertical-align: top;\n",
       "    }\n",
       "\n",
       "    .dataframe thead th {\n",
       "        text-align: right;\n",
       "    }\n",
       "</style>\n",
       "<table border=\"1\" class=\"dataframe\">\n",
       "  <thead>\n",
       "    <tr style=\"text-align: right;\">\n",
       "      <th></th>\n",
       "      <th>Demand</th>\n",
       "      <th>Admitted</th>\n",
       "      <th>Discharged</th>\n",
       "      <th>Available</th>\n",
       "    </tr>\n",
       "  </thead>\n",
       "  <tbody>\n",
       "    <tr>\n",
       "      <th>0</th>\n",
       "      <td>5</td>\n",
       "      <td>5</td>\n",
       "      <td>0</td>\n",
       "      <td>2</td>\n",
       "    </tr>\n",
       "    <tr>\n",
       "      <th>1</th>\n",
       "      <td>8</td>\n",
       "      <td>2</td>\n",
       "      <td>0</td>\n",
       "      <td>0</td>\n",
       "    </tr>\n",
       "    <tr>\n",
       "      <th>2</th>\n",
       "      <td>6</td>\n",
       "      <td>0</td>\n",
       "      <td>5</td>\n",
       "      <td>5</td>\n",
       "    </tr>\n",
       "    <tr>\n",
       "      <th>3</th>\n",
       "      <td>4</td>\n",
       "      <td>4</td>\n",
       "      <td>2</td>\n",
       "      <td>3</td>\n",
       "    </tr>\n",
       "    <tr>\n",
       "      <th>4</th>\n",
       "      <td>4</td>\n",
       "      <td>3</td>\n",
       "      <td>0</td>\n",
       "      <td>0</td>\n",
       "    </tr>\n",
       "    <tr>\n",
       "      <th>5</th>\n",
       "      <td>4</td>\n",
       "      <td>0</td>\n",
       "      <td>4</td>\n",
       "      <td>4</td>\n",
       "    </tr>\n",
       "    <tr>\n",
       "      <th>6</th>\n",
       "      <td>8</td>\n",
       "      <td>4</td>\n",
       "      <td>3</td>\n",
       "      <td>3</td>\n",
       "    </tr>\n",
       "    <tr>\n",
       "      <th>7</th>\n",
       "      <td>1</td>\n",
       "      <td>1</td>\n",
       "      <td>0</td>\n",
       "      <td>2</td>\n",
       "    </tr>\n",
       "    <tr>\n",
       "      <th>8</th>\n",
       "      <td>3</td>\n",
       "      <td>2</td>\n",
       "      <td>4</td>\n",
       "      <td>4</td>\n",
       "    </tr>\n",
       "  </tbody>\n",
       "</table>\n",
       "</div>"
      ],
      "text/plain": [
       "   Demand  Admitted  Discharged  Available\n",
       "0       5         5           0          2\n",
       "1       8         2           0          0\n",
       "2       6         0           5          5\n",
       "3       4         4           2          3\n",
       "4       4         3           0          0\n",
       "5       4         0           4          4\n",
       "6       8         4           3          3\n",
       "7       1         1           0          2\n",
       "8       3         2           4          4"
      ]
     },
     "execution_count": 115,
     "metadata": {},
     "output_type": "execute_result"
    }
   ],
   "source": [
    "for day in range(0, len(demandList)):\n",
    "    if day == 0:\n",
    "        table.loc[day, \"Admitted\"] = min(table.loc[0, \"Demand\"], beds)\n",
    "        table.loc[day, \"Available\"] = max(0, beds - table.loc[0, \"Admitted\"])\n",
    "    else:\n",
    "        if day >= stay-1 :\n",
    "            table.loc[day, \"Discharged\"] = table.loc[day - stay +1 , \"Admitted\"]\n",
    "        else:\n",
    "            table.loc[day, \"Discharged\"] = 0\n",
    "        table.loc[day, \"Admitted\"] = min(table.loc[day, \"Demand\"],\n",
    "                                         table.loc[day - 1, \"Available\"])\n",
    "        table.loc[day, \"Available\"] = max(\n",
    "            0, table.loc[day - 1, \"Available\"] - table.loc[day, \"Admitted\"] + table.loc[day, \"Discharged\"])\n",
    "table\n"
   ]
  },
  {
   "cell_type": "markdown",
   "metadata": {},
   "source": [
    "**Step 4. Synthesize** (Combine your code fragments from Step 3, but do so in an incremental fashion and print intermediate results)"
   ]
  },
  {
   "cell_type": "code",
   "execution_count": 116,
   "metadata": {},
   "outputs": [
    {
     "data": {
      "text/html": [
       "<div>\n",
       "<style scoped>\n",
       "    .dataframe tbody tr th:only-of-type {\n",
       "        vertical-align: middle;\n",
       "    }\n",
       "\n",
       "    .dataframe tbody tr th {\n",
       "        vertical-align: top;\n",
       "    }\n",
       "\n",
       "    .dataframe thead th {\n",
       "        text-align: right;\n",
       "    }\n",
       "</style>\n",
       "<table border=\"1\" class=\"dataframe\">\n",
       "  <thead>\n",
       "    <tr style=\"text-align: right;\">\n",
       "      <th></th>\n",
       "      <th>Demand</th>\n",
       "      <th>Admitted</th>\n",
       "      <th>Discharged</th>\n",
       "      <th>Available</th>\n",
       "    </tr>\n",
       "  </thead>\n",
       "  <tbody>\n",
       "    <tr>\n",
       "      <th>0</th>\n",
       "      <td>5</td>\n",
       "      <td>5</td>\n",
       "      <td>0</td>\n",
       "      <td>2</td>\n",
       "    </tr>\n",
       "    <tr>\n",
       "      <th>1</th>\n",
       "      <td>8</td>\n",
       "      <td>2</td>\n",
       "      <td>0</td>\n",
       "      <td>0</td>\n",
       "    </tr>\n",
       "    <tr>\n",
       "      <th>2</th>\n",
       "      <td>6</td>\n",
       "      <td>0</td>\n",
       "      <td>5</td>\n",
       "      <td>5</td>\n",
       "    </tr>\n",
       "    <tr>\n",
       "      <th>3</th>\n",
       "      <td>4</td>\n",
       "      <td>4</td>\n",
       "      <td>2</td>\n",
       "      <td>3</td>\n",
       "    </tr>\n",
       "    <tr>\n",
       "      <th>4</th>\n",
       "      <td>4</td>\n",
       "      <td>3</td>\n",
       "      <td>0</td>\n",
       "      <td>0</td>\n",
       "    </tr>\n",
       "    <tr>\n",
       "      <th>5</th>\n",
       "      <td>4</td>\n",
       "      <td>0</td>\n",
       "      <td>4</td>\n",
       "      <td>4</td>\n",
       "    </tr>\n",
       "    <tr>\n",
       "      <th>6</th>\n",
       "      <td>8</td>\n",
       "      <td>4</td>\n",
       "      <td>3</td>\n",
       "      <td>3</td>\n",
       "    </tr>\n",
       "    <tr>\n",
       "      <th>7</th>\n",
       "      <td>1</td>\n",
       "      <td>1</td>\n",
       "      <td>0</td>\n",
       "      <td>2</td>\n",
       "    </tr>\n",
       "    <tr>\n",
       "      <th>8</th>\n",
       "      <td>3</td>\n",
       "      <td>2</td>\n",
       "      <td>4</td>\n",
       "      <td>4</td>\n",
       "    </tr>\n",
       "  </tbody>\n",
       "</table>\n",
       "</div>"
      ],
      "text/plain": [
       "   Demand  Admitted  Discharged  Available\n",
       "0       5         5           0          2\n",
       "1       8         2           0          0\n",
       "2       6         0           5          5\n",
       "3       4         4           2          3\n",
       "4       4         3           0          0\n",
       "5       4         0           4          4\n",
       "6       8         4           3          3\n",
       "7       1         1           0          2\n",
       "8       3         2           4          4"
      ]
     },
     "execution_count": 116,
     "metadata": {},
     "output_type": "execute_result"
    }
   ],
   "source": [
    "# Version for debugging: with intermediate printing and no function encapsulation\n",
    "demandList=[5,8,6,4,4,4,8,1,3]\n",
    "beds=7\n",
    "stay=3\n",
    "import pandas as pd\n",
    "table=pd.DataFrame()\n",
    "table[\"Demand\"]=demandList\n",
    "table[\"Admitted\"]=0\n",
    "table[\"Discharged\"]=0\n",
    "table[\"Available\"]=0\n",
    "\n",
    "for day in range(0, len(demandList)):\n",
    "    if day == 0:\n",
    "        table.loc[day, \"Admitted\"] = min(table.loc[0, \"Demand\"], beds)\n",
    "        table.loc[day, \"Available\"] = max(0, beds - table.loc[0, \"Admitted\"])\n",
    "    else:\n",
    "        if day >= stay-1 :\n",
    "            table.loc[day, \"Discharged\"] = table.loc[day - stay +1 , \"Admitted\"]\n",
    "        else:\n",
    "            table.loc[day, \"Discharged\"] = 0\n",
    "        table.loc[day, \"Admitted\"] = min(table.loc[day, \"Demand\"],\n",
    "                                         table.loc[day - 1, \"Available\"])\n",
    "        table.loc[day, \"Available\"] = max(\n",
    "            0, table.loc[day - 1, \"Available\"] - table.loc[day, \"Admitted\"] + table.loc[day, \"Discharged\"])\n",
    "table\n"
   ]
  },
  {
   "cell_type": "code",
   "execution_count": 1,
   "metadata": {},
   "outputs": [],
   "source": [
    "# Final code: removing intermediate printing and encapuslating in a function\n",
    "def admissionSimulation(demandList,beds,stay):\n",
    "    admitted = [0 for x in demandList]\n",
    "    discharged = [0 for x in demandList]\n",
    "    available = [0 for x in demandList]\n",
    "\n",
    "    for day in range(0, len(demandList)):\n",
    "        if day == 0:\n",
    "            admitted[day]=min(demandList[day], beds)\n",
    "            available[day]=max(0,beds - admitted[day])\n",
    "        else:\n",
    "            if day >= stay-1 :\n",
    "                discharged[day]=admitted[day-stay+1]\n",
    "            else:\n",
    "                discharged[day] = 0\n",
    "            admitted[day] = min(demandList[day],available[day-1])\n",
    "            available[day] = max(0, available[day-1] - admitted[day] + discharged[day])\n",
    "    return admitted\n"
   ]
  },
  {
   "cell_type": "code",
   "execution_count": 4,
   "metadata": {},
   "outputs": [
    {
     "name": "stdout",
     "output_type": "stream",
     "text": [
      "Day\tDemand\tAdmitted\n",
      "0\t1\t1\n",
      "1\t2\t1\n",
      "2\t1\t1\n",
      "3\t0\t0\n",
      "4\t2\t2\n",
      "5\t3\t0\n"
     ]
    }
   ],
   "source": [
    "# Sample run 1\n",
    "demandList=[1,2,1,0,2,3]\n",
    "beds=2\n",
    "stay=2\n",
    "admissionRecord=admissionSimulation(demandList,beds,stay)\n",
    "print(f'Day\\tDemand\\tAdmitted')\n",
    "for i in range(len(demandList)):\n",
    "    print(f'{i}\\t{demandList[i]}\\t{admissionRecord[i]}')"
   ]
  },
  {
   "cell_type": "code",
   "execution_count": 5,
   "metadata": {},
   "outputs": [
    {
     "name": "stdout",
     "output_type": "stream",
     "text": [
      "Day\tDemand\tAdmitted\n",
      "0\t5\t5\n",
      "1\t8\t2\n",
      "2\t6\t0\n",
      "3\t8\t5\n",
      "4\t4\t2\n",
      "5\t4\t0\n",
      "6\t8\t5\n",
      "7\t6\t2\n",
      "8\t1\t0\n"
     ]
    }
   ],
   "source": [
    "# Sample run 2\n",
    "demandList=[5,8,6,8,4,4,8,6,1]\n",
    "beds=7\n",
    "stay=3\n",
    "admissionRecord=admissionSimulation(demandList,beds,stay)\n",
    "print(f'Day\\tDemand\\tAdmitted')\n",
    "for i in range(len(demandList)):\n",
    "    print(f'{i}\\t{demandList[i]}\\t{admissionRecord[i]}')"
   ]
  },
  {
   "cell_type": "code",
   "execution_count": 6,
   "metadata": {},
   "outputs": [
    {
     "name": "stdout",
     "output_type": "stream",
     "text": [
      "Day\tDemand\tAdmitted\n",
      "0\t5\t5\n",
      "1\t8\t2\n",
      "2\t6\t0\n",
      "3\t4\t4\n",
      "4\t4\t3\n",
      "5\t4\t0\n",
      "6\t8\t4\n",
      "7\t1\t1\n",
      "8\t3\t2\n"
     ]
    }
   ],
   "source": [
    "# Sample run 3\n",
    "demandList=[5,8,6,4,4,4,8,1,3]\n",
    "beds=7\n",
    "stay=3\n",
    "admissionRecord=admissionSimulation(demandList,beds,stay)\n",
    "print(f'Day\\tDemand\\tAdmitted')\n",
    "for i in range(len(demandList)):\n",
    "    print(f'{i}\\t{demandList[i]}\\t{admissionRecord[i]}')"
   ]
  }
 ],
 "metadata": {
  "kernelspec": {
   "display_name": "Python 3",
   "language": "python",
   "name": "python3"
  },
  "language_info": {
   "codemirror_mode": {
    "name": "ipython",
    "version": 3
   },
   "file_extension": ".py",
   "mimetype": "text/x-python",
   "name": "python",
   "nbconvert_exporter": "python",
   "pygments_lexer": "ipython3",
   "version": "3.7.6"
  },
  "toc": {
   "base_numbering": 1,
   "nav_menu": {},
   "number_sections": true,
   "sideBar": true,
   "skip_h1_title": false,
   "title_cell": "Table of Contents",
   "title_sidebar": "Contents",
   "toc_cell": false,
   "toc_position": {},
   "toc_section_display": true,
   "toc_window_display": true
  }
 },
 "nbformat": 4,
 "nbformat_minor": 2
}
