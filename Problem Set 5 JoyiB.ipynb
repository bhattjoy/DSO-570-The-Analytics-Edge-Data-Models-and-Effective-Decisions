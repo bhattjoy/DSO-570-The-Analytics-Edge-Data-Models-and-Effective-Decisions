{
 "cells": [
  {
   "cell_type": "markdown",
   "metadata": {},
   "source": [
    "# Name: Joyi Bhattacharjee\n",
    "# Problem Set 5 \n",
    "\n",
    "### Learning Objective:\n",
    "\n",
    "- Create Python code to automate a given task.\n",
    "\n",
    "### Overview:\n",
    "\n",
    "This problem set assesses your ability to construct a simulation model by probabilistic sampling, as discussed in the lectures for Week 5. Unlike the previous two problem sets, you are no longer required to give your steps in algorithmic thinking, but can simply include your final solutions here. (Nevertheless, you are still encouraged to apply the steps of algorithmic thinking on your own when solving the difficult problems, and it is probably faster overall to go through those steps in a systematic way rather than trying to jump steps and code everything at once, as the steps make debugging much faster.)\n",
    "\n",
    "### Grading\n",
    "\n",
    "There are three possible scores you can get from submitting this assignment on time (submitting a blank file or one without any apparent effort does not count). Note that the rubric is designed to incentivize you to go for 100% mastery of the material, as the little details matter a lot in programming. \n",
    "\n",
    "| Grade | Description |\n",
    "|--|--|\n",
    "| 5 out of 5 | Perfect submission with no significant errors. | \n",
    "| 4 out of 5 | Near perfect submission with one or more significant errors. |\n",
    "| 2 out of 5 | Apparent effort but far from perfect. |"
   ]
  },
  {
   "cell_type": "markdown",
   "metadata": {},
   "source": [
    "## Q1. Forecasting Bonus Earnings\n",
    "\n",
    "Nadeem is a car salesperson who faces the following incentive scheme at the dealership where he works. For each month, there is a \"target profit\" of 80,000 that the dealership sets for the month. If he makes more profit for the dealership that month than the target, then he receives a 20% bonus on the amount of profit over the target. However, if he does not meet the target, he receives no bonus.  For example, if he makes 100,000 of profit, then he receives a 4,000 bonus that month: $(100000-80000)\\times 0.2=4000$. However, if he makes 70,000, then he receives zero bonus that month. Nadeem would like to understand the distribution of his monthly bonus.\n",
    "\n",
    "Nadeem estimates that the number of cars he sells is binomial distributed with $n=200$ and $p=0.2$. On every car he sells, the amount of profit he makes for the dealership is normally distributed with $\\mu=3000$ and $\\sigma=1000$, and the profit from each car is independent of another.\n",
    "\n",
    "Create a `Series` called \"monthlyBonus\" with 100,000 samples of his monthly bonus. As in the sample outputs below, print the mean and the standard deviation rounded to the nearest integer, as well as the probability the bonus is less than 5000, with the probability being rounded to three decimal places. Finally, plot a histogram of simulated earnings with 100 bins.\n",
    "\n",
    "**Note:** Given the inherent randomness with simulation, your code may still be correct if your estimates are slightly different from those shown below."
   ]
  },
  {
   "cell_type": "code",
   "execution_count": 2,
   "metadata": {},
   "outputs": [],
   "source": [
    "from numpy import random\n",
    "from numpy.random import default_rng\n",
    "import pandas as pd "
   ]
  },
  {
   "cell_type": "code",
   "execution_count": 53,
   "metadata": {
    "scrolled": true
   },
   "outputs": [
    {
     "name": "stderr",
     "output_type": "stream",
     "text": [
      "C:\\Users\\joyib\\anaconda3\\lib\\site-packages\\ipykernel_launcher.py:7: DeprecationWarning: The default dtype for empty Series will be 'object' instead of 'float64' in a future version. Specify a dtype explicitly to silence this warning.\n",
      "  import sys\n"
     ]
    }
   ],
   "source": [
    "# Write your final code here\n",
    "\n",
    "\n",
    "rng=default_rng()\n",
    "TargetProfit=80000\n",
    "monthlyBonus=pd.Series()\n",
    "\n",
    "# bonus.append(0)\n",
    "for i in range(1,100000):\n",
    "    TotalProfit=0\n",
    "    carSold=rng.binomial(200,0.2)\n",
    "    for j in range(0,carSold):\n",
    "        carProfit=rng.normal(3000,1000)\n",
    "        TotalProfit=carProfit +TotalProfit\n",
    "    \n",
    "    if TotalProfit>TargetProfit:\n",
    "        monthlyBonus.loc[i]=(TotalProfit-TargetProfit)*0.2\n",
    "    else:\n",
    "        monthlyBonus.loc[i]=0\n",
    "\n",
    "\n"
   ]
  },
  {
   "cell_type": "code",
   "execution_count": 54,
   "metadata": {},
   "outputs": [
    {
     "name": "stdout",
     "output_type": "stream",
     "text": [
      "Mean bonus: 8019.0\n",
      "Standard deviation: 3607.0\n",
      "Probability that bonus is less than 5000: 0.206\n"
     ]
    },
    {
     "data": {
      "text/plain": [
       "<matplotlib.axes._subplots.AxesSubplot at 0x272fb658e08>"
      ]
     },
     "execution_count": 54,
     "metadata": {},
     "output_type": "execute_result"
    },
    {
     "data": {
      "image/png": "[encoded data removed]",
      "text/plain": [
       "<Figure size 432x288 with 1 Axes>"
      ]
     },
     "metadata": {
      "needs_background": "light"
     },
     "output_type": "display_data"
    }
   ],
   "source": [
    "print(f'Mean bonus: {round(monthlyBonus.mean(),0)}')\n",
    "print(f'Standard deviation: {round(monthlyBonus.std(),0)}')\n",
    "print(f'Probability that bonus is less than 5000: {round((monthlyBonus<5000).mean(),3)}')\n",
    "\n",
    "monthlyBonus.plot(kind=\"hist\",title=\"Histogram of Monthly Bonus\",bins=100)"
   ]
  },
  {
   "cell_type": "markdown",
   "metadata": {},
   "source": [
    "## Q2. Simulating Stock Prices"
   ]
  },
  {
   "cell_type": "markdown",
   "metadata": {},
   "source": [
    "This question asks you to simulate the weekly price of a certain stock, given the initial price, the expected change in price per week, the standard deviation per week, and the number of weeks to simulate.\n",
    "\n",
    "**Write a function called \"simulatePrice\" with the following input arguments:**\n",
    "\n",
    "- **initial**: a positive number representing the price in Week 0.\n",
    "- **mu**: the expected change in price from one week to the next.\n",
    "- **sigma**: the standard deviation in the change in price.\n",
    "- **N**: the number of weeks to simulate.\n",
    "\n",
    "The function should return a Pandas Series containing the simulated price of the stock from Week 0 through N. (Note that the initial price is the first entry and is not simulated.) \n",
    "\n",
    "You should assume the following probabilistic model. Suppose the price in week $t-1$ is $p_{t-1}$, then the price in week $t$ is given by\n",
    "\n",
    "$$p_t = \\begin{cases}\n",
    "0 & \\text{ if $p_{t-1} =0$, } \\\\\n",
    "\\max(0, p_{t-1}+\\epsilon_t) & \\text{ if $p_{t-1} > 0 $,}\n",
    "\\end{cases}$$\n",
    "where $\\epsilon_t$ is independently and Normally distributed with mean **mu** and standard deviation **sigma**, as given by the input arguments."
   ]
  },
  {
   "cell_type": "code",
   "execution_count": 10,
   "metadata": {},
   "outputs": [],
   "source": [
    "# Write your final code here\n",
    "def simulatePrice(initial,mu,sigma,N):\n",
    "    price=pd.Series()\n",
    "    price.loc[0]=initial\n",
    "\n",
    "    for week in range(1,N+1):\n",
    "        if price[week-1]==0:\n",
    "            price.loc[week]=0\n",
    "        else:\n",
    "            randomNum=random.normal(mu,sigma)\n",
    "            price.loc[week]=max(0,(randomNum+price[week-1]))\n",
    "    return price\n",
    "\n"
   ]
  },
  {
   "cell_type": "markdown",
   "metadata": {},
   "source": [
    "The following output shows the result of running the code with initial price of 1, mu=0.01, sigma=0.2, and N=5 weeks."
   ]
  },
  {
   "cell_type": "code",
   "execution_count": 11,
   "metadata": {},
   "outputs": [
    {
     "name": "stderr",
     "output_type": "stream",
     "text": [
      "C:\\Users\\joyib\\anaconda3\\lib\\site-packages\\ipykernel_launcher.py:3: DeprecationWarning: The default dtype for empty Series will be 'object' instead of 'float64' in a future version. Specify a dtype explicitly to silence this warning.\n",
      "  This is separate from the ipykernel package so we can avoid doing imports until\n"
     ]
    },
    {
     "data": {
      "text/plain": [
       "0    1.000000\n",
       "1    1.362810\n",
       "2    1.452842\n",
       "3    1.658590\n",
       "4    2.116768\n",
       "5    2.500280\n",
       "dtype: float64"
      ]
     },
     "execution_count": 11,
     "metadata": {},
     "output_type": "execute_result"
    }
   ],
   "source": [
    "\n",
    "random.seed(0)\n",
    "simulatePrice(1,0.01,0.2,5)"
   ]
  },
  {
   "cell_type": "markdown",
   "metadata": {},
   "source": [
    "The following plots one random sequence of 52 weeks."
   ]
  },
  {
   "cell_type": "code",
   "execution_count": 12,
   "metadata": {},
   "outputs": [
    {
     "name": "stderr",
     "output_type": "stream",
     "text": [
      "C:\\Users\\joyib\\anaconda3\\lib\\site-packages\\ipykernel_launcher.py:3: DeprecationWarning: The default dtype for empty Series will be 'object' instead of 'float64' in a future version. Specify a dtype explicitly to silence this warning.\n",
      "  This is separate from the ipykernel package so we can avoid doing imports until\n"
     ]
    },
    {
     "data": {
      "text/plain": [
       "<matplotlib.axes._subplots.AxesSubplot at 0x242ea8d4908>"
      ]
     },
     "execution_count": 12,
     "metadata": {},
     "output_type": "execute_result"
    },
    {
     "data": {
      "image/png": "[encoded data removed]",
      "text/plain": [
       "<Figure size 432x288 with 1 Axes>"
      ]
     },
     "metadata": {
      "needs_background": "light"
     },
     "output_type": "display_data"
    }
   ],
   "source": [
    "random.seed(0)\n",
    "simulatePrice(1,0.01,0.2,52).plot(title='Simulated stock price')"
   ]
  },
  {
   "cell_type": "code",
   "execution_count": 16,
   "metadata": {},
   "outputs": [
    {
     "name": "stderr",
     "output_type": "stream",
     "text": [
      "C:\\Users\\joyib\\anaconda3\\lib\\site-packages\\ipykernel_launcher.py:3: DeprecationWarning: The default dtype for empty Series will be 'object' instead of 'float64' in a future version. Specify a dtype explicitly to silence this warning.\n",
      "  This is separate from the ipykernel package so we can avoid doing imports until\n"
     ]
    },
    {
     "data": {
      "text/plain": [
       "<matplotlib.axes._subplots.AxesSubplot at 0x242ebabf908>"
      ]
     },
     "execution_count": 16,
     "metadata": {},
     "output_type": "execute_result"
    },
    {
     "data": {
      "image/png": "[encoded data removed]",
      "text/plain": [
       "<Figure size 432x288 with 1 Axes>"
      ]
     },
     "metadata": {
      "needs_background": "light"
     },
     "output_type": "display_data"
    }
   ],
   "source": [
    "random.seed(2)\n",
    "simulatePrice(1,0.01,0.2,52).plot(title='Simulated stock price')"
   ]
  },
  {
   "cell_type": "markdown",
   "metadata": {},
   "source": [
    "The following plots another random sequence and illustrates that once price hits zero, it stays there forever."
   ]
  },
  {
   "cell_type": "markdown",
   "metadata": {},
   "source": [
    "## Q3. Simulating a Strategy for Stock Trading\n",
    "\n",
    "This question asks you to evaluate an algorithmic trading strategy using a time series of stock prices, similar to the output in Q2.\n",
    "\n",
    "**Write a function called \"simulateTrades\" with the following input arguments:**\n",
    "\n",
    "- **prices**: a pandas Series of stock prices, with each entry representing the price of the stock in a given week. You can assume that all given prices are non-negative (i.e. $\\ge 0$).\n",
    "- **cash**: a positive decimal number designating the total amount of money you have at the very beginning, before any trades occur in Week 0. You use up cash when buying stocks and gain cash when selling stocks.\n",
    "- **p_L**: a threshold on the price to purchase. As soon as the stock price is less than or equal to this price, assuming that the price is non-zero, you would purchase as many shares as you can using all the cash you have. (**Note: you can only purchase an integer number of shares.** You can round down a number $n$ using the code `int(n)`. i.e., `int(3.6)` would yield 3.) If the price is equal to zero, then you would not purchase.\n",
    "- **p_H**: a threshold on the price to sell. As soon as the stock price is greater than or equal to this price, you would sell all the shares you have and convert it to cash. \n",
    "\n",
    "Assume that at the beginning, you have zero shares of the stock. Moreover, in the last week, you have to sell all the shares you have regardless of the price. **The function should return (not print) the total amount of cash you have at the end of all periods.** \n",
    "\n",
    "For example, suppose that `prices=pd.Series([1.1,1.3,0.8,1.3,1.6,0.4])`. Then\n",
    "\n",
    "- `simulateTrades(prices, 8, 0.8, 1.6)` returns 16.0 because you would buy 10 shares when the price hits 0.8 and sell then for 1.6 each when the price reaches 1.6. In the last period, you buy 40 shares at 0.4 but sell everything again at that price, so your cash doesn't change.\n",
    "- `simulateTrades(prices, 8, 0.8, 1.7)` returns 4.0 because while the sell price of 1.7 is never reached, you are stuck with 10 shares, which you are forced to sell in the last period for 0.4 each.\n",
    "- `simulateTrades(prices, 10, 0.8, 1.6)` returns 19.6 because you buy 12 shares when the price reaches 0.8, with 0.4 cash left, and you sell all 12 shares at a price of 1.6. Your ending cash is $0.4+1.6 \\times 12=19.6$.\n",
    "- `simulateTrades(prices, 8, 0.7, 1.6)` returns 8.0 because the price is never low enough for you to buy, so you end up with the same amount of cash you had at the beginning.\n",
    "- `simulateTrades(prices, 8, 0.8, 1.2)` returns 13.0 because you buy the 10 shares when the price hits 0.8 and sell everything when the price hits 1.3.\n",
    "- `simulateTrades(prices, 11, 1.2, 1.3)` returns 21.0 because you immediately buy 10 shares since the opening price of 1.1 is lower than 1.2. You sell these shares when the price hits 1.3, and now you have 13 dollars of cash. Once the price goes down to 0.8, you buy 16 shares, and have 0.2 in cash left. You sell those 16 shares when the price hits 1.3, so the final cash is $0.2+16 \\times 1.3 = 21.0$."
   ]
  },
  {
   "cell_type": "code",
   "execution_count": 3,
   "metadata": {},
   "outputs": [],
   "source": [
    "# Write your final code here\n",
    "import pandas as pd\n",
    "\n",
    "def simulateTrades(prices,cash,p_L,p_H):\n",
    "    balance=cash\n",
    "    week=0\n",
    "    netShare=0\n",
    "    for price in prices:\n",
    "        week=week+1\n",
    "        if week==len(prices):\n",
    "            balance=(netShare*price)+balance\n",
    "        elif price<=p_L and price > 0:\n",
    "            sharebuy=int(balance/price)\n",
    "            netShare=netShare+sharebuy\n",
    "            cashSpent=sharebuy*price\n",
    "            balance=balance-cashSpent\n",
    "        elif price>=p_H and price > 0:\n",
    "            sharesold=netShare\n",
    "            cashGain=sharesold*price\n",
    "            balance=balance+cashGain\n",
    "            netShare=netShare-sharesold\n",
    "    return balance\n",
    "    "
   ]
  },
  {
   "cell_type": "code",
   "execution_count": 4,
   "metadata": {},
   "outputs": [
    {
     "data": {
      "text/plain": [
       "16.0"
      ]
     },
     "execution_count": 4,
     "metadata": {},
     "output_type": "execute_result"
    }
   ],
   "source": [
    "# Sample runs\n",
    "import pandas as pd\n",
    "prices=pd.Series([1.1,1.3,0.8,1.3,1.6,0.4])\n",
    "simulateTrades(prices, 8, 0.8, 1.6)"
   ]
  },
  {
   "cell_type": "code",
   "execution_count": 5,
   "metadata": {
    "scrolled": true
   },
   "outputs": [
    {
     "data": {
      "text/plain": [
       "4.0"
      ]
     },
     "execution_count": 5,
     "metadata": {},
     "output_type": "execute_result"
    }
   ],
   "source": [
    "simulateTrades(prices, 8, 0.8, 1.7)"
   ]
  },
  {
   "cell_type": "code",
   "execution_count": 6,
   "metadata": {},
   "outputs": [
    {
     "data": {
      "text/plain": [
       "19.6"
      ]
     },
     "execution_count": 6,
     "metadata": {},
     "output_type": "execute_result"
    }
   ],
   "source": [
    "simulateTrades(prices, 10, 0.8, 1.6)"
   ]
  },
  {
   "cell_type": "code",
   "execution_count": 7,
   "metadata": {},
   "outputs": [
    {
     "data": {
      "text/plain": [
       "8.0"
      ]
     },
     "execution_count": 7,
     "metadata": {},
     "output_type": "execute_result"
    }
   ],
   "source": [
    "simulateTrades(prices, 8, 0.7, 1.6)"
   ]
  },
  {
   "cell_type": "code",
   "execution_count": 8,
   "metadata": {},
   "outputs": [
    {
     "data": {
      "text/plain": [
       "13.0"
      ]
     },
     "execution_count": 8,
     "metadata": {},
     "output_type": "execute_result"
    }
   ],
   "source": [
    "simulateTrades(prices, 8, 0.8, 1.2)"
   ]
  },
  {
   "cell_type": "code",
   "execution_count": 9,
   "metadata": {},
   "outputs": [
    {
     "data": {
      "text/plain": [
       "21.0"
      ]
     },
     "execution_count": 9,
     "metadata": {},
     "output_type": "execute_result"
    }
   ],
   "source": [
    "simulateTrades(prices, 11, 1.2, 1.3)"
   ]
  },
  {
   "cell_type": "markdown",
   "metadata": {},
   "source": [
    "### Illustration: Combining Q2 and Q3 into One Simulation Model\n",
    "\n",
    "Once you have finshed Q2 and Q3, the following code illustrates how you can combine them to forecast the performance of the trading strategy, given the parameters initial, mu, sigma, N, cash, p_L and p_H. "
   ]
  },
  {
   "cell_type": "code",
   "execution_count": 59,
   "metadata": {},
   "outputs": [
    {
     "name": "stderr",
     "output_type": "stream",
     "text": [
      "C:\\Users\\joyib\\anaconda3\\lib\\site-packages\\ipykernel_launcher.py:11: DeprecationWarning: The default dtype for empty Series will be 'object' instead of 'float64' in a future version. Specify a dtype explicitly to silence this warning.\n",
      "  # This is added back by InteractiveShellApp.init_path()\n",
      "C:\\Users\\joyib\\anaconda3\\lib\\site-packages\\ipykernel_launcher.py:3: DeprecationWarning: The default dtype for empty Series will be 'object' instead of 'float64' in a future version. Specify a dtype explicitly to silence this warning.\n",
      "  This is separate from the ipykernel package so we can avoid doing imports until\n"
     ]
    },
    {
     "name": "stdout",
     "output_type": "stream",
     "text": [
      "Mean: 10515.432973547717\n",
      "Standard deviation: 5883.643000559876\n"
     ]
    },
    {
     "data": {
      "image/png": "[encoded data removed]",
      "text/plain": [
       "<Figure size 432x288 with 1 Axes>"
      ]
     },
     "metadata": {
      "needs_background": "light"
     },
     "output_type": "display_data"
    }
   ],
   "source": [
    "# Input parameters (you can play with them and re-run this cell)\n",
    "initial=1\n",
    "mu=0.01\n",
    "sigma=0.2\n",
    "N=12     \n",
    "cash=10000\n",
    "p_L=0.9\n",
    "p_H=1.3\n",
    "\n",
    "# Combining Q2 and Q3\n",
    "finalCash=pd.Series()\n",
    "for i in range(1000):\n",
    "    prices=simulatePrice(initial,mu,sigma,N)\n",
    "    finalCash.loc[i]=simulateTrades(prices,cash,p_L,p_H)\n",
    "finalCash.plot(kind='hist',title='Histogram of Final Cash after 12 Weeks (1000 Simulations)',bins=30)\n",
    "print('Mean:', finalCash.mean())\n",
    "print('Standard deviation:', finalCash.std())"
   ]
  },
  {
   "cell_type": "markdown",
   "metadata": {},
   "source": [
    "## Q4. Simulating Demand under Price Promotions\n",
    "\n",
    "Suppose that a grocery store offers promotions on a certain product with probability $0.3$ every month, independent from other months. Conditional on whether there is a promotion in a month and on the promotion pattern of previous months, the monthly demand for the product is independently and normally distributed with the following parameters. (Assume that demand can take any decimal number and ignore the issue of negative demand.)\n",
    "\n",
    "| Month | Mean ($\\mu$) | Standard Deviation ($\\sigma$) |\n",
    "|--|--|--|\n",
    "| No promotion | 500 | 100 |\n",
    "| Promotion | 800 + 100$t$ | 150 |\n",
    "\n",
    "In the above table, $t$ is the number of months without a promotion since the last promotion. For example, if last month had a promotion, then $t=0$. If the neither of the last two months had a promotion but the month before had one, then $t=2$.\n",
    "\n",
    "**Write a function called \"simulateDemand\" with one input argument:**\n",
    "\n",
    "- **n**: the number of months to simulate. (Assume this is at least 1).\n",
    "\n",
    "**The function should return a list of $n$ numbers corresponding to $n$ consecutive months of simulated demand for the product.** Assume that just prior to the months in the simualtion, there was a promotion, so $t=0$ in the beginning. "
   ]
  },
  {
   "cell_type": "code",
   "execution_count": 9,
   "metadata": {
    "scrolled": false
   },
   "outputs": [
    {
     "name": "stderr",
     "output_type": "stream",
     "text": [
      "C:\\Users\\joyib\\anaconda3\\lib\\site-packages\\ipykernel_launcher.py:3: DeprecationWarning: The default dtype for empty Series will be 'object' instead of 'float64' in a future version. Specify a dtype explicitly to silence this warning.\n",
      "  This is separate from the ipykernel package so we can avoid doing imports until\n"
     ]
    },
    {
     "data": {
      "text/plain": [
       "<matplotlib.axes._subplots.AxesSubplot at 0x242ea8ef688>"
      ]
     },
     "execution_count": 9,
     "metadata": {},
     "output_type": "execute_result"
    },
    {
     "data": {
      "image/png": "[encoded data removed]",
      "text/plain": [
       "<Figure size 432x288 with 1 Axes>"
      ]
     },
     "metadata": {
      "needs_background": "light"
     },
     "output_type": "display_data"
    }
   ],
   "source": [
    "# Write your final code here\n",
    "\n",
    "demand=pd.Series()\n",
    "\n",
    "def simulateDemand(n):\n",
    "    t=0\n",
    "    for i in range(0,n):      \n",
    "        promotion=random.choice([1,0],p=[0.3,0.7])\n",
    "#         print(i,\"\\t\",t,\"\\t\",promotion)\n",
    "        if promotion==1:\n",
    "            latest_promo_month=i\n",
    "            demand.loc[i]=random.normal(800+100*t,150)\n",
    "            t=0\n",
    "        elif promotion==0:\n",
    "            t=t+1\n",
    "            demand.loc[i]=random.normal(500,100)\n",
    "        \n",
    "    return demand\n",
    "\n",
    "import pandas as pd\n",
    "from numpy import random\n",
    "random.seed(0)\n",
    "pd.Series(simulateDemand(36))\\\n",
    "    .plot(title='Simulated demand for 36 months')"
   ]
  }
 ],
 "metadata": {
  "kernelspec": {
   "display_name": "Python 3",
   "language": "python",
   "name": "python3"
  },
  "language_info": {
   "codemirror_mode": {
    "name": "ipython",
    "version": 3
   },
   "file_extension": ".py",
   "mimetype": "text/x-python",
   "name": "python",
   "nbconvert_exporter": "python",
   "pygments_lexer": "ipython3",
   "version": "3.7.6"
  },
  "toc": {
   "base_numbering": 1,
   "nav_menu": {},
   "number_sections": true,
   "sideBar": true,
   "skip_h1_title": false,
   "title_cell": "Table of Contents",
   "title_sidebar": "Contents",
   "toc_cell": false,
   "toc_position": {},
   "toc_section_display": true,
   "toc_window_display": false
  }
 },
 "nbformat": 4,
 "nbformat_minor": 2
}
