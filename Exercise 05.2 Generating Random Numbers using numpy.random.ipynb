{
 "cells": [
  {
   "cell_type": "markdown",
   "metadata": {},
   "source": [
    "## Exercise 5.2 Generating Random Numbers using `numpy.random`\n",
    "\n",
    "**Note:** Due to the inherent randomness in sampling, your answers and plots might be slightly different from the sample outputs below, and minor discrepancies are to be expected. Moreover, don't worry about the line \"<matplatlib.axes...>\" that you see before plots. It is possible to remove this but you don't have to.\n",
    "\n",
    "**a)** Generate 100,000 samples from a uniform distribution between 1 and 3, and plot the histogram with 20 bins, as below."
   ]
  },
  {
   "cell_type": "code",
   "execution_count": 26,
   "metadata": {},
   "outputs": [
    {
     "data": {
      "text/plain": [
       "<matplotlib.axes._subplots.AxesSubplot at 0x2068e461908>"
      ]
     },
     "execution_count": 26,
     "metadata": {},
     "output_type": "execute_result"
    },
    {
     "data": {
      "image/png": "[encoded data removed]",
      "text/plain": [
       "<Figure size 432x288 with 1 Axes>"
      ]
     },
     "metadata": {
      "needs_background": "light"
     },
     "output_type": "display_data"
    }
   ],
   "source": [
    "import pandas as pd\n",
    "from numpy import random\n",
    "random.seed(0)\n",
    "import matplotlib.pyplot as plt\n",
    "pd.Series(random.uniform(1,3,size=100000)).hist(bins=20)"
   ]
  },
  {
   "cell_type": "markdown",
   "metadata": {},
   "source": [
    "**b)** Generate 100,000 samples from a geometric probability with $p=0.3$, and plot the histogram with 30 bins, as below."
   ]
  },
  {
   "cell_type": "code",
   "execution_count": 27,
   "metadata": {},
   "outputs": [
    {
     "data": {
      "text/plain": [
       "<matplotlib.axes._subplots.AxesSubplot at 0x2068d746748>"
      ]
     },
     "execution_count": 27,
     "metadata": {},
     "output_type": "execute_result"
    },
    {
     "data": {
      "image/png": "[encoded data removed]",
      "text/plain": [
       "<Figure size 432x288 with 1 Axes>"
      ]
     },
     "metadata": {
      "needs_background": "light"
     },
     "output_type": "display_data"
    }
   ],
   "source": [
    "random.seed(0)\n",
    "pd.Series(random.geometric(0.3,size=100000)).hist(bins=30)"
   ]
  },
  {
   "cell_type": "markdown",
   "metadata": {},
   "source": [
    "**c)** Suppose that the number of customers arriving to a grocery store every $10$ minutes is Poisson distributed with mean $8.5$. Estimate the chance that the number of arrivals in a given 10 minute interval is 15 or higher.\n",
    "\n",
    "**Hint:** Generate 1,000,000 samples from the Poisson distribution and apply the techniques from last week (Section 4.4.3) to count the number of samples that are at least 15."
   ]
  },
  {
   "cell_type": "code",
   "execution_count": 30,
   "metadata": {},
   "outputs": [
    {
     "data": {
      "text/plain": [
       "0.027202"
      ]
     },
     "execution_count": 30,
     "metadata": {},
     "output_type": "execute_result"
    }
   ],
   "source": [
    "random.seed(0)\n",
    "all_samples=pd.Series(random.poisson(8.5,size=1000000))\n",
    "round((1-(len(all_samples[all_samples<=14])/len(all_samples))),7)"
   ]
  },
  {
   "cell_type": "markdown",
   "metadata": {},
   "source": [
    "**d)** Suppose there are two products, and a customer's willingness to pay for each of the two products are drawn independently from the following distributions:\n",
    "\n",
    "- Product 1: Normal(25,10)\n",
    "- Product 2: Normal(20,15)\n",
    "\n",
    "Estimate the proportion of customers whose willingness to pay is higher for the second product than the first, AND whose willingness to pay for the second product is at least zero. \n",
    "\n",
    "**Hint:** Draw 1,000,000 samples from each distribution and compare the two Series using vectorized operations as in Section 4.4.3 and 4.4.4c) of last week."
   ]
  },
  {
   "cell_type": "code",
   "execution_count": 32,
   "metadata": {},
   "outputs": [
    {
     "data": {
      "text/plain": [
       "0.390258"
      ]
     },
     "execution_count": 32,
     "metadata": {},
     "output_type": "execute_result"
    }
   ],
   "source": [
    "random.seed(0)\n",
    "prod1=pd.Series(random.normal(25,10,size=1000000))\n",
    "prod2=pd.Series(random.normal(20,15,size=1000000))\n",
    "prod2[(prod2>prod1) & (prod2>=0)].count()/prod2.count()"
   ]
  }
 ],
 "metadata": {
  "kernelspec": {
   "display_name": "Python 3",
   "language": "python",
   "name": "python3"
  },
  "language_info": {
   "codemirror_mode": {
    "name": "ipython",
    "version": 3
   },
   "file_extension": ".py",
   "mimetype": "text/x-python",
   "name": "python",
   "nbconvert_exporter": "python",
   "pygments_lexer": "ipython3",
   "version": "3.7.6"
  },
  "toc": {
   "base_numbering": 1,
   "nav_menu": {},
   "number_sections": true,
   "sideBar": true,
   "skip_h1_title": false,
   "title_cell": "Table of Contents",
   "title_sidebar": "Contents",
   "toc_cell": false,
   "toc_position": {},
   "toc_section_display": true,
   "toc_window_display": false
  }
 },
 "nbformat": 4,
 "nbformat_minor": 2
}
