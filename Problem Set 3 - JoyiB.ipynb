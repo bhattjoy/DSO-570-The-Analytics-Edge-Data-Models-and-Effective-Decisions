{
 "cells": [
  {
   "cell_type": "markdown",
   "metadata": {},
   "source": [
    "# Name: Joyi Bhattacharjee\n",
    "\n",
    "# Problem Set 3\n",
    "\n",
    "### Learning Objective:\n",
    "\n",
    "- Create Python code to automate a given task.\n",
    "\n",
    "### Overview:\n",
    "\n",
    "This problem set assesses your algorithmic thinking, which is the focus of Week 3. For each problem, you are required to go through each of four steps as described in the lectures to Week 3. See the sample solutions to Exercise 3.6 for an example of the desired format of your responses.\n",
    "\n",
    "### Grading\n",
    "\n",
    "There are three possible scores you can get from submitting this assignment on time (submitting a blank file or one without any apparent effort does not count). Note that the rubric is designed to incentivize you to go for 100% mastery of the material, as the little details matter a lot in programming. \n",
    "\n",
    "| Grade | Description |\n",
    "|--|--|\n",
    "| 5 out of 5 | Perfect submission with no significant errors. | \n",
    "| 4 out of 5 | Near perfect submission with one or more significant errors. |\n",
    "| 2 out of 5 | Apparent effort but far from perfect. |\n",
    "\n",
    "\n",
    "## Q1. Investment Accounting \n",
    "\n",
    "This question asks you to create a tool to perform simple accounting for stock trading. Write a function called \"accounting\" with two input arguments:\n",
    "\n",
    "- prices: a list of positive numbers corresponding to the price of a stock in successive days. \n",
    "- changes: a list of integers (positive or negative) corresponding to the change in the number of shares carried. A positive number corresponds to buying shares of the stock and a negative number corresponds to selling. It is possible for you to own net negative shares of the stock.\n",
    "\n",
    "You may assume that the two lists are of the same length. The function should return (not print) the following two numbers:\n",
    "\n",
    "- net change in shares: the sum of the numbers in the list \"changes\".\n",
    "- net change in cash: the net money spent or earned over the trades in the list \"changes\". Buying the stock costs money and selling it earns money. \n",
    "\n",
    "For example, if `prices=[10,12,13,8,7,15]` and `changes=[3,2,-5,3,1,-5]`, the following table illustrates the calculations.\n",
    "\n",
    "|Price | Change | Cashflow |\n",
    "|--|--|--|\n",
    "|10|+3 | -30 |\n",
    "|12|+2 | -24 |\n",
    "|13|-5 | 65 |\n",
    "|8 | +3 | -24 |\n",
    "|7 | +1 | -7 |\n",
    "|15|-5 | 75 |\n",
    "|**Net**| **-1** | **55** |\n",
    "\n",
    "**Sample run:**\n",
    "```python\n",
    "netShares,netCash=accounting([10,12,13,8,7,15],[3,2,-5,3,1,-5])\n",
    "print(f'Net change in position: {netShares} shares.')\n",
    "print(f'Net change in cash: {netCash} dollars.')\n",
    "```\n",
    "\n",
    "**Sample output:**\n",
    "```\n",
    "Net change in position: -1 shares.\n",
    "Net change in cash: 55 dollars.\n",
    "```"
   ]
  },
  {
   "cell_type": "markdown",
   "metadata": {},
   "source": [
    "### Applying Algorithmic Thinking:\n",
    "\n",
    "**Step 1. Understand** (Write your summary of the task in this cell:)             \n",
    "Each day we get the price of the stocks and number of stocks bought or sold.\n",
    "We should write a function which would give us at the end of the list of days:\n",
    "- the net change count of shares \n",
    "- the net change in the value of the shares\n",
    "\n",
    "For example: \n",
    "- The list of price of stocks for 2 days is [10,12]\n",
    "- The number of stocks bought/sold for 2 days is [3,-2] (negative indicates Stocks sold)       \n",
    "\n",
    "First I bought 3 stocks and then sold 2 next day.       \n",
    "- The net change in number of stocks=3-2=1              \n",
    "The value change in day 1 is -30 as I bought 30 dollars worth of stock.       \n",
    "Next day,I gained +24 by selling 2 stocks of worth 12 dollars.      \n",
    "- Hence net change in cash=-30+24=-6    \n"
   ]
  },
  {
   "cell_type": "markdown",
   "metadata": {},
   "source": [
    "**Step 2. Decompose** (Write your instructions in this Markdown cell)\n",
    "\n",
    "Instructions:\n",
    "- Sum of the changes gives the net change of shares   \n",
    "- For Cashflow change:                 \n",
    "        Multiply the stockvalue with count of stocks sold/bought                \n",
    "        (Sold will be positve cashflow,bought is negative cashflow)\n",
    "- The sum of the cashflow changes would be the net change in cash"
   ]
  },
  {
   "cell_type": "markdown",
   "metadata": {},
   "source": [
    "**Step 3. Analyze** (Write code fragments in separate code cells to implement the trickiest steps)"
   ]
  },
  {
   "cell_type": "code",
   "execution_count": 11,
   "metadata": {},
   "outputs": [
    {
     "name": "stdout",
     "output_type": "stream",
     "text": [
      "55\n",
      "-1\n"
     ]
    }
   ],
   "source": [
    "prices=[10,12,13,8,7,15]\n",
    "changes=[3,2,-5,3,1,-5]\n",
    "sum_cash=0\n",
    "net_change=0\n",
    "cashflow=0\n",
    "for i in range(0,len(prices)):\n",
    "    cashflow=prices[i]*changes[i]*(-1)\n",
    "    sum_cash=sum_cash+cashflow\n",
    "    net_change=net_change+changes[i]\n",
    "print(sum_cash)\n",
    "print(net_change)"
   ]
  },
  {
   "cell_type": "code",
   "execution_count": null,
   "metadata": {},
   "outputs": [],
   "source": []
  },
  {
   "cell_type": "code",
   "execution_count": null,
   "metadata": {},
   "outputs": [],
   "source": []
  },
  {
   "cell_type": "markdown",
   "metadata": {},
   "source": [
    "**Step 4. Synthesize** (Combine your code fragments from Step 3, but do so in an incremental fashion and print intermediate results)"
   ]
  },
  {
   "cell_type": "code",
   "execution_count": 61,
   "metadata": {},
   "outputs": [
    {
     "name": "stdout",
     "output_type": "stream",
     "text": [
      "Price \tChange \t Cashflow\n",
      "10\t3\t-30\n",
      "12\t2\t-24\n",
      "13\t-5\t65\n",
      "8\t3\t-24\n",
      "7\t1\t-7\n",
      "15\t-5\t75\n",
      "Net change in cash:55\n",
      "Net change in position: -1\n"
     ]
    }
   ],
   "source": [
    "# Version with intermediate printing and without function encapsulation\n",
    "prices=[10,12,13,8,7,15]\n",
    "changes=[3,2,-5,3,1,-5]\n",
    "sum_cash=0\n",
    "net_change=0\n",
    "cashflow=0\n",
    "print(f'Price \\tChange \\t Cashflow')\n",
    "for i in range(0,len(prices)):\n",
    "    cashflow=prices[i]*changes[i]*(-1)\n",
    "    sum_cash=sum_cash+cashflow\n",
    "    net_change=net_change+changes[i]\n",
    "    print(f'{prices[i]}\\t{changes[i]}\\t{cashflow}')\n",
    "print(f'Net change in cash:{sum_cash}')\n",
    "print(f'Net change in position: {net_change}')"
   ]
  },
  {
   "cell_type": "code",
   "execution_count": 62,
   "metadata": {},
   "outputs": [
    {
     "name": "stdout",
     "output_type": "stream",
     "text": [
      "Net change in position: -1 shares.\n",
      "Net change in cash: 55 dollars.\n"
     ]
    }
   ],
   "source": [
    "# Final code\n",
    "def accounting(prices,changes):\n",
    "    sum_cash=0\n",
    "    net_change=0\n",
    "    cashflow=0\n",
    "    for i in range(0,len(prices)):\n",
    "        cashflow=prices[i]*changes[i]*(-1)\n",
    "        sum_cash=sum_cash+cashflow\n",
    "        net_change=net_change+changes[i]\n",
    "    return net_change,sum_cash\n"
   ]
  },
  {
   "cell_type": "code",
   "execution_count": 63,
   "metadata": {},
   "outputs": [
    {
     "name": "stdout",
     "output_type": "stream",
     "text": [
      "Net change in position: -1 shares.\n",
      "Net change in cash: 55 dollars.\n"
     ]
    }
   ],
   "source": [
    "# Sample run\n",
    "netShares,netCash=accounting([10,12,13,8,7,15],[3,2,-5,3,1,-5])\n",
    "print(f'Net change in position: {netShares} shares.')\n",
    "print(f'Net change in cash: {netCash} dollars.')"
   ]
  },
  {
   "cell_type": "markdown",
   "metadata": {},
   "source": [
    "## Q2. Demand Estimation with $n$ Substitutable Products\n",
    "\n",
    "This exercise generalizes Exercise 3.6 to $n$ products, where $n$ is any positive integer.\n",
    "\n",
    "Write a function called `demand` with two input arguments:\n",
    "\n",
    "- `prices`: a list of $n$ prices, one for each product. \n",
    "- `values`: a list in which each element represents a customer's valuations for the $n$ products. The valuations is a list of length $n$, which corresponds to the customer's willingness to pay for each of the $n$ products.\n",
    "\n",
    "The function should return a list of length $n$ representing the number of each product sold. You should assume that each customer:\n",
    "\n",
    "- Does not purchase anything if his/her valuation for each product is strictly less than its price.\n",
    "- Otherwise, purchase the product in which the difference between his/her valuation and the price is the largest. When there is a tie, the customer will purchase the product with the smaller index. \n",
    "\n",
    "For example, if `prices=[10,8,12]`, then\n",
    "\n",
    "- A customer with valuations `[9,7,11]` purchases nothing.\n",
    "- A customer with valuations `[10,8,12]` purchases product 1.\n",
    "- A customer with valuations `[9,8,12]` purchases product 2.\n",
    "- A customer with valuations `[9,8,13]` purchases product 3.\n",
    "\n",
    "**Sample run 1:**\n",
    "\n",
    "```python\n",
    "prices=[10,8,12]\n",
    "values=[[9,7,11],[10,8,12],[9,8,12],[9,8,13]]\n",
    "ans=demand(prices,values)\n",
    "for i in range(len(prices)):\n",
    "    print(f'Demand for product {i+1}:',ans[i])\n",
    "```\n",
    "\n",
    "**Correct output:**\n",
    "\n",
    "```\n",
    "Demand for product 1: 1\n",
    "Demand for product 2: 1\n",
    "Demand for product 3: 1\n",
    "```\n",
    "\n",
    "**Sample run 2:**\n",
    "\n",
    "```python\n",
    "prices=[20,15,30]\n",
    "values=[[30,30,20],[40,10,15],[18,13,29],[40,30,50],[10,30,50],[10,10,10],[20,15,30]]\n",
    "ans=demand(prices,values)\n",
    "for i in range(len(prices)):\n",
    "    print(f'Demand for product {i+1}:',ans[i])\n",
    "   ```\n",
    "   \n",
    "**Correct output:**\n",
    "\n",
    "```\n",
    "Demand for product 1: 3\n",
    "Demand for product 2: 1\n",
    "Demand for product 3: 1\n",
    "```"
   ]
  },
  {
   "cell_type": "markdown",
   "metadata": {},
   "source": [
    "### Applying Algorithmic Thinking:\n",
    "\n",
    "**Step 1. Understand** (Write your summary of the task in this cell:)\n",
    "\n",
    "The task is to calculate how many customers will purchase each product, based on the value they assessed for each product and their prices."
   ]
  },
  {
   "cell_type": "markdown",
   "metadata": {},
   "source": [
    "**Step 2. Decompose** (Write your instructions in this Markdown cell)\n",
    "- Set the count of all the products to 0           \n",
    "For each customer(Looping through customers)     \n",
    "- Calculate the profit(value-price) for each of the products\n",
    "- if all the profits are negative, then no increment to the Counts for Products. \n",
    "- Otherwise,find the product that the customer would purchase based on their profits\n",
    "- Increment the count of the purchased product by 1                   "
   ]
  },
  {
   "cell_type": "markdown",
   "metadata": {},
   "source": [
    "**Step 3. Analyze** (Write code fragments in separate code cells to implement the trickiest steps)"
   ]
  },
  {
   "cell_type": "code",
   "execution_count": 65,
   "metadata": {},
   "outputs": [
    {
     "name": "stdout",
     "output_type": "stream",
     "text": [
      "[10, 15, -10]\n",
      "[20, -5, -15]\n",
      "[-2, -2, -1]\n",
      "[20, 15, 20]\n",
      "[-10, 15, 20]\n",
      "[-10, -5, -20]\n",
      "[0, 0, 0]\n",
      "Demand for product 0 : 3\n",
      "Demand for product 1 : 1\n",
      "Demand for product 2 : 1\n"
     ]
    }
   ],
   "source": [
    "\n",
    "priceVector = [20,15,30]\n",
    "values=[[30,30,20],[40,10,15],[18,13,29],[40,30,50],[10,30,50],[10,10,10],[20,15,30]]\n",
    "\n",
    "# print(f'ProfitProduct1\\tProfitProduct2\\tProduct1\\tProduct2')\n",
    "ans = [0 for x in priceVector]\n",
    "for value in values:\n",
    "    prof = []\n",
    "    for i in range(len(priceVector)):\n",
    "        prof.append(value[i] - priceVector[i])\n",
    "    print(prof)   \n",
    "    \n",
    "    maxProfit = max([i for i in prof])\n",
    "    \n",
    "    if maxProfit < 0:\n",
    "        continue\n",
    "    else:\n",
    "        for j in range(0, len(prof)):\n",
    "            if prof[j] == maxProfit:\n",
    "                ans[j] = ans[j] + 1\n",
    "                break\n",
    "    \n",
    "# print(ans)\n",
    "\n",
    "for i in range(len(priceVector)):\n",
    "    print('Demand for product',i,':',ans[i])"
   ]
  },
  {
   "cell_type": "code",
   "execution_count": null,
   "metadata": {},
   "outputs": [],
   "source": []
  },
  {
   "cell_type": "markdown",
   "metadata": {},
   "source": [
    "**Step 4. Synthesize** (Combine your code fragments from Step 3, but do so in an incremental fashion and print intermediate results)"
   ]
  },
  {
   "cell_type": "code",
   "execution_count": 53,
   "metadata": {},
   "outputs": [
    {
     "name": "stdout",
     "output_type": "stream",
     "text": [
      "Price vector: [10, 8, 12]\n",
      "\tCount: [0, 0, 0]\n",
      "Product Valuation: [9, 7, 11]\n",
      "\tProfit: [-1, -1, -1]\n",
      "Product Valuation: [10, 8, 12]\n",
      "\tProfit: [0, 0, 0]\n",
      "\tCount: [1, 0, 0]\n",
      "Product Valuation: [9, 8, 12]\n",
      "\tProfit: [-1, 0, 0]\n",
      "\tCount: [1, 1, 0]\n",
      "Product Valuation: [9, 8, 13]\n",
      "\tProfit: [-1, 0, 1]\n",
      "\tCount: [1, 1, 1]\n",
      "Demand for product 0 : 1\n",
      "Demand for product 1 : 1\n",
      "Demand for product 2 : 1\n"
     ]
    }
   ],
   "source": [
    "# Version for debugging: with intermediate printing and no function encapsulation\n",
    "priceVector = [10,8,12]\n",
    "values=[[9,7,11],[10,8,12],[9,8,12],[9,8,13]]\n",
    "\n",
    "ans = [0 for x in priceVector]\n",
    "print('Price vector:',priceVector)\n",
    "print('\\tCount:',ans)\n",
    "for value in values:\n",
    "    print('Product Valuation:',value)\n",
    "    prof = []\n",
    "    \n",
    "    for i in range(len(priceVector)):\n",
    "        prof.append(value[i] - priceVector[i])\n",
    "    print('\\tProfit:', prof)   \n",
    "    \n",
    "    maxProfit = max([i for i in prof])\n",
    "    \n",
    "    if maxProfit < 0:\n",
    "        continue\n",
    "    else:\n",
    "        for j in range(0, len(prof)):\n",
    "            if prof[j] == maxProfit:\n",
    "                ans[j] = ans[j] + 1\n",
    "                break\n",
    "    print('\\tCount:',ans)\n",
    "# print(ans)\n",
    "\n",
    "for i in range(len(priceVector)):\n",
    "    print('Demand for product',i,':',ans[i])"
   ]
  },
  {
   "cell_type": "code",
   "execution_count": 1,
   "metadata": {},
   "outputs": [],
   "source": [
    "# Final code: removing intermediate printing and encapuslating in a function\n",
    "def demand(prices,values):\n",
    "    prodCount = [0 for x in prices]\n",
    "    for value in values:\n",
    "        profit = []\n",
    "        for i in range(len(prices)):\n",
    "            profit.append(value[i] - prices[i])\n",
    "        \n",
    "        maxProfit = max([i for i in profit])\n",
    "\n",
    "        if maxProfit < 0:\n",
    "            continue\n",
    "        else:\n",
    "            for j in range(0, len(profit)):\n",
    "                if profit[j] == maxProfit:\n",
    "                    prodCount[j] = prodCount[j] + 1\n",
    "                    break\n",
    "    return prodCount\n"
   ]
  },
  {
   "cell_type": "code",
   "execution_count": 56,
   "metadata": {},
   "outputs": [
    {
     "name": "stdout",
     "output_type": "stream",
     "text": [
      "Demand for product 0 : 1\n",
      "Demand for product 1 : 1\n",
      "Demand for product 2 : 1\n"
     ]
    }
   ],
   "source": [
    "# Sample run 1\n",
    "prices=[10,8,12]\n",
    "values=[[9,7,11],[10,8,12],[9,8,12],[9,8,13]]\n",
    "ans=demand(prices,values)\n",
    "for i in range(len(prices)):\n",
    "    print('Demand for product',i,':',ans[i])"
   ]
  },
  {
   "cell_type": "code",
   "execution_count": 57,
   "metadata": {},
   "outputs": [
    {
     "name": "stdout",
     "output_type": "stream",
     "text": [
      "Demand for product 0 : 3\n",
      "Demand for product 1 : 1\n",
      "Demand for product 2 : 1\n"
     ]
    }
   ],
   "source": [
    "# Sample run 2\n",
    "prices=[20,15,30]\n",
    "values=[[30,30,20],[40,10,15],[18,13,29],[40,30,50],[10,30,50],[10,10,10],[20,15,30]]\n",
    "ans=demand(prices,values)\n",
    "for i in range(len(prices)):\n",
    "    print('Demand for product',i,':',ans[i])"
   ]
  },
  {
   "cell_type": "markdown",
   "metadata": {},
   "source": [
    "## Q3. Grocery Store Restocking\n",
    "\n",
    "This question asks you to make a tool that helps a grocery store to analyze their policy for restocking shelves for a certain non-perishable item. Write a function called `analyzeScenario` with three input parameters:\n",
    "\n",
    "- `demandList`: a non-empty list of non-negative integers representing the forecasted daily demand for the item, corresponding to a period of consecutive days. The number of days is `len(demandList)`.\n",
    "- `stockingLevel`: a positive integer representing the maximum number of units that the store will stock on its shelves at any time.\n",
    "- `minimumLevel`: a non-negative integer representing the minimum number of units on the shelves that the store can tolerate without restocking. \n",
    "\n",
    "Assume that the store makes its stocking decision at the end of each day after closing. If the leftover inventory on the shelf at the end of a day is strictly below the \"minimumLevel\", then the store will restock to a full shelf, and the inventory at the beginning of the next day will be equal to \"stockingLevel\". If the leftover inventory at the end of a day is greater than or equal to \"minimumLevel\", then the store will not add anything to the shelf, and the inventory at the beginning of the next day will be the same as the leftover inventory. On the first day, the shelf is full, so the inventory level is equal to \"stockingLevel\".\n",
    "\n",
    "Your function should print (not return) the number of times it would decide to restock during the period represented by the input data. \n",
    "\n",
    "For example, the sample run\n",
    "```python\n",
    "analyzeScenario([3,4,2,5,15,3,9,3,1,3,9],10,3)\n",
    "```\n",
    "should result in exactly the following message printed to screen.\n",
    "```\n",
    "The store needs to restock 4 times.\n",
    "```\n",
    "The following table illustrates the inventory dynamics.\n",
    "\n",
    "| Beginning Inventory | Demand |   Leftover Inventory | Restock? |\n",
    "|--|--|--|--|\n",
    "|10|3 |7 |No |\n",
    "|7 |4 |3 |No |\n",
    "|3 |2 |1 | Yes |\n",
    "|10|5 |5 | No |\n",
    "| 5|15|0 |Yes |\n",
    "|10|3|7 | No|\n",
    "|7|9 | 0 | Yes |\n",
    "|10|3| 7 | No |\n",
    "|7 |1 | 6 | No |\n",
    "|6 | 3|  3 | No |\n",
    "|3 | 9 |  0 | Yes |\n",
    "|**# of times to restock:**|` `|` `| **4**|\n",
    "\n",
    "Note that if demand is greater than the beginning inventory, the leftover inventory is zero. Otherwise, the leftover inventory is equal to the beginning inventory minus the demand. The final answer (the number of times to restock) is equal to the number of Yes's in the last column of the table.\n",
    "\n",
    "**Sample run 2:**\n",
    "```python\n",
    "analyzeScenario([3,4,2,5,15,3,9,3,1,3,9],9,3)\n",
    "```\n",
    "\n",
    "The printed message should be exactly as below:\n",
    "```\n",
    "The store needs to restock 6 times.\n",
    "\n",
    "```\n",
    "\n",
    "**Sample run 3:**\n",
    "```python\n",
    "analyzeScenario([8,3,2,6,9,3,5,2,9,10],9,5)\n",
    "```\n",
    "\n",
    "The printed message should be exactly as below:\n",
    "\n",
    "```\n",
    "The store needs to restock 7 times.\n",
    "\n",
    "```"
   ]
  },
  {
   "cell_type": "markdown",
   "metadata": {},
   "source": [
    "### Applying Algorithmic Thinking:\n",
    "\n",
    "**Step 1. Understand** (Write your summary of the task in this cell:)\n",
    "\n",
    "The task to dynamically update the stock at the end of each day and to assess whether restock is needed.Finally, it is required to calculate the total number of times the item was restocked."
   ]
  },
  {
   "cell_type": "markdown",
   "metadata": {},
   "source": [
    "**Step 2. Decompose** (Write your instructions in this Markdown cell)             \n",
    "For each day (looped through days)\n",
    "- For 1st day, initial stock would be equal to stockingLevel. Otherwise it would be equal to leftover of the day before\n",
    "- After clearing of each day's demand, the leftover would be Initial Stock-Demand (0 if it <0)\n",
    "       - if Leftover Stock >= minimumLevel: No restocking needed. Leftover stays without any change.\n",
    "       - if Leftover Stock < minimumLevel: Restock Counter incremented by 1. Leftover is updated to                stockingLevel\n",
    "               "
   ]
  },
  {
   "cell_type": "markdown",
   "metadata": {},
   "source": [
    "**Step 3. Analyze** (Write code fragments in separate code cells to implement the trickiest steps)"
   ]
  },
  {
   "cell_type": "code",
   "execution_count": 58,
   "metadata": {},
   "outputs": [
    {
     "name": "stdout",
     "output_type": "stream",
     "text": [
      "Begin\tDemand\tLeftover\n",
      "9\t3\t6\t\n",
      "6\t4\t2\t\n",
      "2\t2\t0\t\n"
     ]
    }
   ],
   "source": [
    "demand=[3,4,2]\n",
    "minLevel=3\n",
    "stockLevel=9\n",
    "begin=stockLevel\n",
    "print(f'Begin\\tDemand\\tLeftover')\n",
    "for i in demand:\n",
    "    leftover=max(begin-i,0)\n",
    "\n",
    "    print(f'{begin}\\t{i}\\t{leftover}\\t')\n",
    "    begin=leftover"
   ]
  },
  {
   "cell_type": "code",
   "execution_count": 59,
   "metadata": {},
   "outputs": [
    {
     "name": "stdout",
     "output_type": "stream",
     "text": [
      "Begin\tDemand\tLeftover\trestock\n",
      "9\t3\t6\t\tFalse\n",
      "6\t4\t2\t\tTrue\n",
      "2\t2\t0\t\tTrue\n"
     ]
    }
   ],
   "source": [
    "demand=[3,4,2]\n",
    "stockLevel=9\n",
    "minLevel=3\n",
    "begin=stockLevel\n",
    "print(f'Begin\\tDemand\\tLeftover\\trestock')\n",
    "for i in demand:\n",
    "    leftover=max(begin-i,0)\n",
    "    if leftover<minLevel:\n",
    "        restock=True\n",
    "        dayend=stockLevel       \n",
    "    else:\n",
    "        dayend=leftover\n",
    "        restock=False\n",
    "    print(f'{begin}\\t{i}\\t{leftover}\\t\\t{restock}')\n",
    "    begin=leftover"
   ]
  },
  {
   "cell_type": "code",
   "execution_count": null,
   "metadata": {},
   "outputs": [],
   "source": []
  },
  {
   "cell_type": "markdown",
   "metadata": {},
   "source": [
    "**Step 4. Synthesize** (Combine your code fragments from Step 3, but do so in an incremental fashion and print intermediate results)"
   ]
  },
  {
   "cell_type": "code",
   "execution_count": 73,
   "metadata": {},
   "outputs": [
    {
     "name": "stdout",
     "output_type": "stream",
     "text": [
      "Begin\tDemand\tLeftover\tRestock\n",
      "9\t3\t6\t\tFalse\n",
      "6\t4\t2\t\tFalse\n",
      "9\t2\t7\t\tTrue\n",
      "7\t5\t2\t\tFalse\n",
      "9\t15\t0\t\tTrue\n",
      "9\t3\t6\t\tTrue\n",
      "6\t9\t0\t\tFalse\n",
      "9\t3\t6\t\tTrue\n",
      "6\t1\t5\t\tFalse\n",
      "5\t3\t2\t\tFalse\n",
      "9\t9\t0\t\tTrue\n",
      "Total count of restock : 6\n"
     ]
    }
   ],
   "source": [
    "# Code with intermediate printing\n",
    "demand=[3,4,2,5,15,3,9,3,1,3,9]\n",
    "stockLevel=9\n",
    "begin=stockLevel\n",
    "minLevel=3\n",
    "restock=False\n",
    "restock_cnt=0\n",
    "\n",
    "print(f'Begin\\tDemand\\tLeftover\\tRestock')\n",
    "for i in demand:\n",
    "    leftover=max(begin-i,0)\n",
    "    print(f'{begin}\\t{i}\\t{leftover}\\t\\t{restock}')\n",
    "    if leftover<minLevel:\n",
    "        restock=True\n",
    "        restock_cnt=restock_cnt+1\n",
    "        begin=stockLevel       \n",
    "    else:\n",
    "        begin=leftover\n",
    "        restock=False\n",
    "print(f'Total count of restock : {restock_cnt}')"
   ]
  },
  {
   "cell_type": "code",
   "execution_count": 74,
   "metadata": {},
   "outputs": [],
   "source": [
    "# Final code\n",
    "def analyzeScenario(demandList, stockingLevel, minimumLevel):\n",
    "    begin = stockingLevel\n",
    "    restock = False\n",
    "    restock_cnt = 0    \n",
    "    for demand in demandList:\n",
    "        leftover = max(begin - demand, 0)\n",
    "        if leftover < minimumLevel:\n",
    "            restock_cnt = restock_cnt + 1\n",
    "            begin = stockingLevel\n",
    "        else:\n",
    "            begin = leftover\n",
    "    print(f'The store needs to restock {restock_cnt} times.')"
   ]
  },
  {
   "cell_type": "code",
   "execution_count": 75,
   "metadata": {},
   "outputs": [
    {
     "name": "stdout",
     "output_type": "stream",
     "text": [
      "The store needs to restock 4 times.\n"
     ]
    }
   ],
   "source": [
    "# Sample run 1\n",
    "analyzeScenario([3,4,2,5,15,3,9,3,1,3,9],10,3)"
   ]
  },
  {
   "cell_type": "code",
   "execution_count": 76,
   "metadata": {},
   "outputs": [
    {
     "name": "stdout",
     "output_type": "stream",
     "text": [
      "The store needs to restock 6 times.\n"
     ]
    }
   ],
   "source": [
    "# Sample run 2\n",
    "analyzeScenario([3,4,2,5,15,3,9,3,1,3,9],9,3)"
   ]
  },
  {
   "cell_type": "code",
   "execution_count": 77,
   "metadata": {},
   "outputs": [
    {
     "name": "stdout",
     "output_type": "stream",
     "text": [
      "The store needs to restock 7 times.\n"
     ]
    }
   ],
   "source": [
    "# Sample run 3\n",
    "analyzeScenario([8,3,2,6,9,3,5,2,9,10],9,5)"
   ]
  }
 ],
 "metadata": {
  "kernelspec": {
   "display_name": "Python 3",
   "language": "python",
   "name": "python3"
  },
  "language_info": {
   "codemirror_mode": {
    "name": "ipython",
    "version": 3
   },
   "file_extension": ".py",
   "mimetype": "text/x-python",
   "name": "python",
   "nbconvert_exporter": "python",
   "pygments_lexer": "ipython3",
   "version": "3.7.6"
  },
  "toc": {
   "base_numbering": 1,
   "nav_menu": {},
   "number_sections": true,
   "sideBar": true,
   "skip_h1_title": false,
   "title_cell": "Table of Contents",
   "title_sidebar": "Contents",
   "toc_cell": false,
   "toc_position": {},
   "toc_section_display": true,
   "toc_window_display": true
  }
 },
 "nbformat": 4,
 "nbformat_minor": 2
}
