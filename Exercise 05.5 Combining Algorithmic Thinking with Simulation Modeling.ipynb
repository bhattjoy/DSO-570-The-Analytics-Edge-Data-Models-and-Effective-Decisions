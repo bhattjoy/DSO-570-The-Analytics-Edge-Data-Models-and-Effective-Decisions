{
 "cells": [
  {
   "cell_type": "markdown",
   "metadata": {},
   "source": [
    "## 5.5 Case Study: Epidemics Modeling\n",
    "\n",
    "A new virus has broken out in a city and has an incubation period of $d=5$ days. Starting from $a=2$ days after infection to the last day of the incubation period, each infected patient has close contact with $n=4$ uninfected people, and infects each of them with probability $p=0.2$ independently from others. At the end of the last day of incubation, each infected person reports to the hospital and enters isolation, which means that they stop infecting others. \n",
    "\n",
    "Suppose that there is exactly 1 infected person on Day 0, **create a function that simulates the number of patients who report to the hospital at the end of Day 1 through Day $m$.** The function should be called `simulateNewCases` and has the following arguments:\n",
    "\n",
    "- `m`: the number of days to simulate.\n",
    "- `a` (default value 2): the first day after infection when a patient becomes contagious.\n",
    "- `d` (default value 5): the last day after infection when a patient may infect others (not in isolation). \n",
    "- `n` (default value 4): the number of uninfected individuals a person contacts each day.\n",
    "- `p` (default value 0.2): the probability of infecting a close contact each day. \n",
    "\n",
    "The function should return a list of $m$ integers, representing the number of infected individuals who exit incubation and report to the hospital at the end of Day 1 through Day $m$. \n",
    "\n",
    "To illustrate the timeline. Suppose that a person is infected on Day 5, then the person becomes contagious on Day $5+a=7$ and starting on that day, has the capacity to infect up to $n$ people per day. At the end Day $5+d=10$, after possibly infecting new people on that day, the patient reports to the hospital and enters into isolation.\n",
    "\n",
    "### Exercise 5.5 Applying Algorithmic Thinking to Simulation Modeling\n",
    "\n",
    "**After you have finished Steps 1, 2 yourself (or after at least 15 minutes of attempt), you may watch the video that goes over these steps, but you should not watch it before attempting it yourself.**"
   ]
  },
  {
   "cell_type": "code",
   "execution_count": 1,
   "metadata": {},
   "outputs": [
    {
     "data": {
      "text/plain": [
       "'1.18.1'"
      ]
     },
     "execution_count": 1,
     "metadata": {},
     "output_type": "execute_result"
    }
   ],
   "source": [
    "import numpy as np\n",
    "\n",
    "np.__version__"
   ]
  },
  {
   "cell_type": "code",
   "execution_count": 3,
   "metadata": {},
   "outputs": [
    {
     "data": {
      "text/plain": [
       "150000154556"
      ]
     },
     "execution_count": 3,
     "metadata": {},
     "output_type": "execute_result"
    }
   ],
   "source": [
    "from numpy.random import default_rng\n",
    "rng=default_rng()\n",
    "rng.binomial(500000000000,0.3)"
   ]
  },
  {
   "cell_type": "markdown",
   "metadata": {},
   "source": [
    "**Step 1. Understand** (Write your summary of the task in this Markdown cell)\n",
    "\n",
    "The task is to calculate the number of patients ending incubation and return to hospital at the end of every day."
   ]
  },
  {
   "cell_type": "markdown",
   "metadata": {},
   "source": [
    "**Step 2. Decompose** (Write your instructions in this Markdown cell)\n",
    "\n",
    "Hint: it would be helpful to make a table.  \n",
    "\n",
    "\n",
    "lets assume there is 1 infected person on day 0.\n",
    "- `a` (default value 2): the first day after infection when a patient becomes contagious.\n",
    "- `d` (default value 5): the last day after infection when a patient may infect others (not in isolation). \n",
    "- `n` (default value 4): the number of uninfected individuals a person contacts each day.\n",
    "- `p` (default value 0.2): the probability of infecting a close contact each day. \n",
    "\n",
    "```\n",
    "Day\t    Contagiuos         New Infect                Report\n",
    "0\t    0\t                1                          0\n",
    "1\t    0\t                0                          0\n",
    "2\t    1\t                2(binomial[1*4,0.2])       0\n",
    "3\t    1          \t      1(binomial[1*4,0.2])       0\n",
    "4\t    1+2=3   \t         8(binomial[3*4,0.2])       0\n",
    "5\t    1+2+1=4\t          11(binomial[4*4,0.2])      1           \n",
    "6\t    2+1+8=11\t         20(binomial[11*4,0.2])     0\n",
    "7\t    2+1+8+11=22\t      60(binomial[22*4,0.2])     2\n",
    "8\t    1+8+11+20=40\t     50(binomial[40*4,0.2])     1\n",
    "```\n",
    "Logic:\n",
    "For each day (Looping through the days):\n",
    "- Contagious= Sum of New Infect till day-2.(starting with contagious=1 for day 2 as there were 1 infected patient at day 0)\n",
    "- New Infect=binomial(Contagious* 4,0.2)\n",
    "- Report=Contagious(day-5)"
   ]
  },
  {
   "cell_type": "markdown",
   "metadata": {},
   "source": [
    "**Step 3. Analyze** (Write code fragments in separate code cells to implement the trickiest steps, as in Weeks 3 and 4.)"
   ]
  },
  {
   "cell_type": "code",
   "execution_count": 94,
   "metadata": {},
   "outputs": [],
   "source": [
    "import pandas as pd\n",
    "import matplotlib.pyplot as plt\n",
    "a=2\n",
    "d=5\n",
    "p=0.2\n",
    "n=4\n",
    "m=9"
   ]
  },
  {
   "cell_type": "code",
   "execution_count": 95,
   "metadata": {},
   "outputs": [
    {
     "name": "stdout",
     "output_type": "stream",
     "text": [
      "0 \t 0 \t 1 \t 0\n",
      "1 \t 0 \t 0 \t 0\n",
      "2 \t 1 \t 1 \t 0\n",
      "3 \t 1 \t 0 \t 0\n",
      "4 \t 2 \t 1 \t 0\n",
      "5 \t 2 \t 2 \t 1\n",
      "6 \t 2 \t 0 \t 0\n",
      "7 \t 4 \t 2 \t 1\n",
      "8 \t 3 \t 2 \t 0\n",
      "9 \t 5 \t 3 \t 1\n"
     ]
    }
   ],
   "source": [
    "days=range(0,m+1)\n",
    "infected=[0 for i in days]\n",
    "reported=[0 for i in days]\n",
    "for day in days:\n",
    "    if day==0:\n",
    "        contagious=0\n",
    "        infected[day]=1\n",
    "        reported[day]=0        \n",
    "    elif day<a:\n",
    "        contagious=0\n",
    "        infected[day]=0\n",
    "        reported[day]=0\n",
    "    elif day<d:\n",
    "        contagious=infected[day-2]+contagious\n",
    "        infected[day]=rng.binomial(contagious*n,0.2)\n",
    "        reported[day]=0\n",
    "    else:\n",
    "        contagious=infected[day-2]+contagious-reported[day-1]\n",
    "        infected[day]=rng.binomial(contagious*n,0.2)\n",
    "        reported[day]=infected[day-d]\n",
    "    print(day,'\\t',contagious,'\\t',infected[day],'\\t',reported[day]) \n",
    "\n",
    "# s=pd.Series(reported,index=range(0,m+1))\n",
    "# s.plot(logy=True,title='Possible Disease Trajectory')\n",
    "# plt.xlabel('Day')\n",
    "# plt.ylabel('Number of reported cases per day')\n",
    "# plt.show()"
   ]
  },
  {
   "cell_type": "code",
   "execution_count": null,
   "metadata": {},
   "outputs": [],
   "source": []
  },
  {
   "cell_type": "code",
   "execution_count": null,
   "metadata": {},
   "outputs": [],
   "source": []
  },
  {
   "cell_type": "markdown",
   "metadata": {},
   "source": [
    "**Step 4. Synthesize** (Combine your code fragments from Step 3, but do so in an incremental fashion and print intermediate results)"
   ]
  },
  {
   "cell_type": "code",
   "execution_count": 85,
   "metadata": {},
   "outputs": [
    {
     "name": "stdout",
     "output_type": "stream",
     "text": [
      "day \t contagious \t new infected \t reported\n",
      "0 \t 0 \t\t 1 \t\t 0\n",
      "1 \t 0 \t\t 0 \t\t 0\n",
      "2 \t 1 \t\t 0 \t\t 0\n",
      "3 \t 1 \t\t 2 \t\t 0\n",
      "4 \t 1 \t\t 0 \t\t 0\n",
      "5 \t 3 \t\t 1 \t\t 1\n",
      "6 \t 2 \t\t 0 \t\t 0\n",
      "7 \t 3 \t\t 1 \t\t 0\n",
      "8 \t 3 \t\t 1 \t\t 2\n",
      "9 \t 2 \t\t 1 \t\t 0\n",
      "10 \t 3 \t\t 0 \t\t 1\n",
      "11 \t 3 \t\t 2 \t\t 0\n"
     ]
    }
   ],
   "source": [
    "# Version for debugging: with intermediate printing and no function encapsulation\n",
    "m=12\n",
    "days=range(0,m)\n",
    "infected=[0 for i in days]\n",
    "reported=[0 for i in days]\n",
    "print(\"day\",'\\t',\"contagious\",'\\t',\"new infected\",'\\t',\"reported\")\n",
    "for day in days:\n",
    "    if day==0:\n",
    "        contagious=0\n",
    "        infected[day]=1\n",
    "        reported[day]=0        \n",
    "    elif day<a:\n",
    "        contagious=0\n",
    "        infected[day]=0\n",
    "        reported[day]=0\n",
    "    elif day<d:\n",
    "        contagious=infected[day-2]+contagious\n",
    "        infected[day]=rng.binomial(contagious*n,0.2)\n",
    "        reported[day]=0\n",
    "    else:\n",
    "        contagious=infected[day-2]+contagious-reported[day-1]\n",
    "        infected[day]=rng.binomial(contagious*n,0.2)\n",
    "        reported[day]=infected[day-d]\n",
    "    print(day,'\\t',contagious,'\\t\\t',infected[day],'\\t\\t',reported[day]) "
   ]
  },
  {
   "cell_type": "code",
   "execution_count": 121,
   "metadata": {},
   "outputs": [],
   "source": [
    "# Final code: removing intermediate printing and encapuslating in a function\n",
    "def simulateNewCases(m,p=0.2,n=4,d=5,a=2):\n",
    "    days=range(0,m+1)\n",
    "    infected=[0 for i in days]\n",
    "    reported=[0 for i in days]\n",
    "    for day in days:\n",
    "        if day==0:\n",
    "            contagious=0\n",
    "            infected[day]=1\n",
    "            reported[day]=0        \n",
    "        elif day<a:\n",
    "            contagious=0\n",
    "            infected[day]=0\n",
    "            reported[day]=0\n",
    "        elif day<d:\n",
    "            contagious=infected[day-a]+contagious\n",
    "            infected[day]=rng.binomial(contagious*n,p)\n",
    "            reported[day]=0\n",
    "        else:\n",
    "            contagious=infected[day-a]+contagious-reported[day-1]\n",
    "            infected[day]=rng.binomial(contagious*n,p)\n",
    "            reported[day]=infected[day-d]\n",
    "    return reported[1:m+1]\n"
   ]
  },
  {
   "cell_type": "markdown",
   "metadata": {},
   "source": [
    "### Using your Simulation Model\n",
    "\n",
    "The following code can be run after you have finished the above, and they illustrate certain analysis using your simulation model."
   ]
  },
  {
   "cell_type": "code",
   "execution_count": 135,
   "metadata": {},
   "outputs": [
    {
     "data": {
      "image/png": "[encoded data removed]",
      "text/plain": [
       "<Figure size 432x288 with 1 Axes>"
      ]
     },
     "metadata": {
      "needs_background": "light"
     },
     "output_type": "display_data"
    }
   ],
   "source": [
    "# Test Code to plot one possible disease trajectory. Re-run to see a different trajectory.\n",
    "import pandas as pd\n",
    "import matplotlib.pyplot as plt\n",
    "m=60\n",
    "s=pd.Series(simulateNewCases(m),index=range(1,m+1))\n",
    "s.plot(logy=True,title='Possible Disease Trajectory')\n",
    "plt.xlabel('Day')\n",
    "plt.ylabel('Number of reported cases per day')\n",
    "plt.show()"
   ]
  },
  {
   "cell_type": "markdown",
   "metadata": {},
   "source": [
    "The following set of testing code uses your function to forecast the total number of reported cases within 60 days."
   ]
  },
  {
   "cell_type": "code",
   "execution_count": 136,
   "metadata": {},
   "outputs": [
    {
     "name": "stdout",
     "output_type": "stream",
     "text": [
      "Number of total reported cases in 60 days.\n",
      "  Forecast mean: 313508870\n",
      "  Forecast standard deviation: 206691548\n"
     ]
    },
    {
     "data": {
      "text/plain": [
       "<matplotlib.axes._subplots.AxesSubplot at 0x1f3deb235c8>"
      ]
     },
     "execution_count": 136,
     "metadata": {},
     "output_type": "execute_result"
    },
    {
     "data": {
      "image/png": "[encoded data removed]",
      "text/plain": [
       "<Figure size 432x288 with 1 Axes>"
      ]
     },
     "metadata": {
      "needs_background": "light"
     },
     "output_type": "display_data"
    }
   ],
   "source": [
    "totalReports=pd.Series([sum(simulateNewCases(60)) for i in range(1000)])\n",
    "print('Number of total reported cases in 60 days.')\n",
    "print(f'  Forecast mean: {totalReports.mean():.0f}')\n",
    "print(f'  Forecast standard deviation: {totalReports.std():.0f}')\n",
    "\n",
    "totalReports.plot(kind='hist',bins=30,\\\n",
    "                 title=\"Histogram of the Total Reported Cases (1000 Simulations)\")\n",
    "# totalReports"
   ]
  },
  {
   "cell_type": "code",
   "execution_count": null,
   "metadata": {},
   "outputs": [],
   "source": []
  }
 ],
 "metadata": {
  "kernelspec": {
   "display_name": "Python 3",
   "language": "python",
   "name": "python3"
  },
  "language_info": {
   "codemirror_mode": {
    "name": "ipython",
    "version": 3
   },
   "file_extension": ".py",
   "mimetype": "text/x-python",
   "name": "python",
   "nbconvert_exporter": "python",
   "pygments_lexer": "ipython3",
   "version": "3.7.6"
  },
  "toc": {
   "base_numbering": 1,
   "nav_menu": {},
   "number_sections": true,
   "sideBar": true,
   "skip_h1_title": false,
   "title_cell": "Table of Contents",
   "title_sidebar": "Contents",
   "toc_cell": false,
   "toc_position": {},
   "toc_section_display": true,
   "toc_window_display": false
  }
 },
 "nbformat": 4,
 "nbformat_minor": 2
}
